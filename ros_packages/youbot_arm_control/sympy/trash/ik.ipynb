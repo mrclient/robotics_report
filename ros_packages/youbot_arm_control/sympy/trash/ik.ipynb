{
 "cells": [
  {
   "cell_type": "code",
   "execution_count": 2,
   "metadata": {
    "collapsed": false
   },
   "outputs": [],
   "source": [
    "from __future__ import division\n",
    "from IPython.display import display\n",
    "\n",
    "from sympy import Matrix\n",
    "from sympy.interactive import printing\n",
    "\n",
    "printing.init_printing(use_latex='mathjax')\n",
    "\n",
    "import sympy as sym\n",
    "from sympy import *\n",
    "\n",
    "th0, th1, th2, th3, th4, th5 = symbols(\"\\\\theta_0 \\\\theta_1 \\\\theta_2 \\\\theta_3 \\\\theta_4 \\\\theta_5\")\n",
    "thi, ai, alphai, di = symbols(\"\\\\theta_i a_i \\\\alpha_i d_i\")\n",
    "I = eye(4)\n",
    "Rz = Matrix([[cos(thi), -sin(thi), 0, 0],[sin(thi), cos(thi), 0, 0],[0,0,1,0],[0,0,0,1]])\n",
    "Rx = Matrix([[1, 0, 0, 0],[0, cos(alphai), -sin(alphai), 0],[0,sin(alphai), cos(alphai), 0],[0,0,0,1]])\n",
    "Tz = Matrix([[1,0,0,0],[0,1,0,0],[0,0,1, di],[0,0,0,1]])\n",
    "Tx = Matrix([[1,0,0,ai],[0,1,0,0],[0,0,1, 0],[0,0,0,1]])\n",
    "dT = Rz*Tz*Tx*Rx\n",
    "\n",
    "a1, a2, a3, a4, a5, a6 = symbols(\"a_1 a_2 a_3 a_4 a_5 a_6\")\n",
    "d1, d2, d3, d4, d5, d6 = symbols(\"d_1 d_2 d_3 d_4 d_5 d_6\")\n",
    "c1, c2, c3, c4, c5, c6 = symbols(\"c_{\\\\theta_1} c_{\\\\theta_2} c_{\\\\theta_3} c_{\\\\theta_4} c_{\\\\theta_5} c_{\\\\theta_6}\")\n",
    "s1, s2, s3, s4, s5, s6 = symbols(\" s_{\\\\theta_1} s_{\\\\theta_2} s_{\\\\theta_3} s_{\\\\theta_4} s_{\\\\theta_5} s_{\\\\theta_6}\")\n",
    "ca2, ca5 = symbols(\"c_{\\\\alpha_2} c_{\\\\alpha_5}\")\n",
    "sa2, sa5 = symbols(\"s_{\\\\alpha_2} s_{\\\\alpha_5}\")\n",
    "\n",
    "a = [0, a2, a3, a4, 0, 0]\n",
    "d = [d1, d2, 0, 0, 0, d6]\n",
    "c = [1, c1,c2,c3,c4,c5]\n",
    "s = [0, s1,s2,s3,s4,s5]\n",
    "# # check ks\n",
    "# a = [0, 0.033, 0.155, 0.135, 0, 0]\n",
    "# d = [0.128, 0.019, 0, 0, 0, 0.218]\n",
    "# c = [1,1,0,1,0,1]\n",
    "# s = [1,0,1,0,1,0]\n",
    "\n",
    "\n",
    "ca2 = 0\n",
    "sa2 = 1\n",
    "ca5 = 0\n",
    "sa5 = 1\n",
    "ca = [1, ca2,1, 1, ca5,1]\n",
    "sa = [0, sa2,0, 0, sa5, 0]\n",
    "def T(i):\n",
    "    Rz = Matrix([[c[i], -s[i], 0, 0],[s[i], c[i], 0, 0],[0,0,1,0],[0,0,0,1]])\n",
    "    Rx = Matrix([[1, 0, 0, 0],[0, ca[i], -sa[i], 0],[0, sa[i], ca[i], 0],[0,0,0,1]])\n",
    "    Tz = Matrix([[1,0,0,0],[0,1,0,0],[0,0,1, d[i]],[0,0,0,1]])\n",
    "    Tx = Matrix([[1,0,0,a[i]],[0,1,0,0],[0,0,1, 0],[0,0,0,1]])\n",
    "    T = Rz*Tz*Tx*Rx\n",
    "    return T\n",
    "\n",
    "r = symbols(\"r_{11} r_{12} r_{13} r_{21} r_{22} r_{23} r_{31} r_{32} r_{33}\")\n",
    "p = symbols(\"p_x p_y p_z\")\n",
    "T06r = Matrix([[r[0], r[1], r[2], p[0]],[r[3], r[4], r[5], p[1]],[r[6], r[7], r[8], p[2]], [0,0,0,1]])"
   ]
  },
  {
   "cell_type": "code",
   "execution_count": 3,
   "metadata": {
    "collapsed": false
   },
   "outputs": [
    {
     "data": {
      "text/latex": [
       "$$\\left ( r_{11}, \\quad r_{12}, \\quad r_{13}, \\quad r_{21}, \\quad r_{22}, \\quad r_{23}, \\quad r_{31}, \\quad r_{32}, \\quad r_{33}\\right )$$"
      ],
      "text/plain": [
       "(r_{11}, r_{12}, r_{13}, r_{21}, r_{22}, r_{23}, r_{31}, r_{32}, r_{33})"
      ]
     },
     "execution_count": 3,
     "metadata": {},
     "output_type": "execute_result"
    }
   ],
   "source": [
    "r"
   ]
  },
  {
   "cell_type": "code",
   "execution_count": 25,
   "metadata": {
    "collapsed": false
   },
   "outputs": [
    {
     "data": {
      "text/latex": [
       "$$\\left[\\begin{matrix}r_{11} & r_{12} & r_{13} & p_{x}\\\\r_{21} & r_{22} & r_{23} & p_{y}\\\\r_{31} & r_{32} & r_{33} & p_{z}\\\\0 & 0 & 0 & 1\\end{matrix}\\right]$$"
      ],
      "text/plain": [
       "⎡r_{11}  r_{12}  r_{13}  pₓ ⎤\n",
       "⎢                           ⎥\n",
       "⎢r_{21}  r_{22}  r_{23}  p_y⎥\n",
       "⎢                           ⎥\n",
       "⎢r_{31}  r_{32}  r_{33}  p_z⎥\n",
       "⎢                           ⎥\n",
       "⎣  0       0       0      1 ⎦"
      ]
     },
     "execution_count": 25,
     "metadata": {},
     "output_type": "execute_result"
    }
   ],
   "source": [
    "T06"
   ]
  },
  {
   "cell_type": "code",
   "execution_count": 6,
   "metadata": {
    "collapsed": false
   },
   "outputs": [
    {
     "ename": "TypeError",
     "evalue": "unsupported operand type(s) for ** or pow(): 'tuple' and 'int'",
     "traceback": [
      "\u001b[0;31m---------------------------------------------------------------------------\u001b[0m",
      "\u001b[0;31mTypeError\u001b[0m                                 Traceback (most recent call last)",
      "\u001b[0;32m<ipython-input-6-4c176ab76a41>\u001b[0m in \u001b[0;36m<module>\u001b[0;34m()\u001b[0m\n\u001b[0;32m----> 1\u001b[0;31m \u001b[0mexpand\u001b[0m\u001b[0;34m(\u001b[0m\u001b[0msimplify\u001b[0m\u001b[0;34m(\u001b[0m\u001b[0mexpand\u001b[0m\u001b[0;34m(\u001b[0m\u001b[0;34m(\u001b[0m\u001b[0;34m)\u001b[0m\u001b[0;34m**\u001b[0m\u001b[0;34m(\u001b[0m\u001b[0;34m-\u001b[0m\u001b[0;36m1\u001b[0m\u001b[0;34m)\u001b[0m\u001b[0;34m)\u001b[0m\u001b[0;34m)\u001b[0m\u001b[0;34m*\u001b[0m\u001b[0mT06r\u001b[0m\u001b[0;34m)\u001b[0m\u001b[0;34m\u001b[0m\u001b[0m\n\u001b[0m",
      "\u001b[0;31mTypeError\u001b[0m: unsupported operand type(s) for ** or pow(): 'tuple' and 'int'"
     ],
     "output_type": "error"
    }
   ],
   "source": [
    "expand(simplify(expand(()**(-1)))*T06r)"
   ]
  },
  {
   "cell_type": "code",
   "execution_count": 11,
   "metadata": {
    "collapsed": false
   },
   "outputs": [
    {
     "data": {
      "text/latex": [
       "$$\\left[\\begin{matrix}r_{11}^{2} + r_{12} r_{21} + r_{13} r_{31} & r_{11} r_{12} + r_{12} r_{22} + r_{13} r_{32} & r_{11} r_{13} + r_{12} r_{23} + r_{13} r_{33} & p_{x} r_{11} + p_{x} + p_{y} r_{12} + p_{z} r_{13}\\\\r_{11} r_{21} + r_{21} r_{22} + r_{23} r_{31} & r_{12} r_{21} + r_{22}^{2} + r_{23} r_{32} & r_{13} r_{21} + r_{22} r_{23} + r_{23} r_{33} & p_{x} r_{21} + p_{y} r_{22} + p_{y} + p_{z} r_{23}\\\\r_{11} r_{31} + r_{21} r_{32} + r_{31} r_{33} & r_{12} r_{31} + r_{22} r_{32} + r_{32} r_{33} & r_{13} r_{31} + r_{23} r_{32} + r_{33}^{2} & p_{x} r_{31} + p_{y} r_{32} + p_{z} r_{33} + p_{z}\\\\0 & 0 & 0 & 1\\end{matrix}\\right]$$"
      ],
      "text/plain": [
       "⎡         2                                                                   \n",
       "⎢   r_{11}  + r_{12}⋅r_{21} + r_{13}⋅r_{31}     r_{11}⋅r_{12} + r_{12}⋅r_{22} \n",
       "⎢                                                                             \n",
       "⎢                                                                        2    \n",
       "⎢r_{11}⋅r_{21} + r_{21}⋅r_{22} + r_{23}⋅r_{31}     r_{12}⋅r_{21} + r_{22}  + r\n",
       "⎢                                                                             \n",
       "⎢                                                                             \n",
       "⎢r_{11}⋅r_{31} + r_{21}⋅r_{32} + r_{31}⋅r_{33}  r_{12}⋅r_{31} + r_{22}⋅r_{32} \n",
       "⎢                                                                             \n",
       "⎣                      0                                              0       \n",
       "\n",
       "                                                                              \n",
       "+ r_{13}⋅r_{32}  r_{11}⋅r_{13} + r_{12}⋅r_{23} + r_{13}⋅r_{33}  pₓ⋅r_{11} + pₓ\n",
       "                                                                              \n",
       "                                                                              \n",
       "_{23}⋅r_{32}     r_{13}⋅r_{21} + r_{22}⋅r_{23} + r_{23}⋅r_{33}  pₓ⋅r_{21} + p_\n",
       "                                                                              \n",
       "                                                          2                   \n",
       "+ r_{32}⋅r_{33}     r_{13}⋅r_{31} + r_{23}⋅r_{32} + r_{33}      pₓ⋅r_{31} + p_\n",
       "                                                                              \n",
       "                                       0                                      \n",
       "\n",
       "                           ⎤\n",
       " + p_y⋅r_{12} + p_z⋅r_{13} ⎥\n",
       "                           ⎥\n",
       "                           ⎥\n",
       "y⋅r_{22} + p_y + p_z⋅r_{23}⎥\n",
       "                           ⎥\n",
       "                           ⎥\n",
       "y⋅r_{32} + p_z⋅r_{33} + p_z⎥\n",
       "                           ⎥\n",
       "      1                    ⎦"
      ]
     },
     "execution_count": 11,
     "metadata": {},
     "output_type": "execute_result"
    }
   ],
   "source": [
    "simplify(T06r * T06r)"
   ]
  },
  {
   "cell_type": "code",
   "execution_count": null,
   "metadata": {
    "collapsed": true
   },
   "outputs": [],
   "source": [
    ""
   ]
  }
 ],
 "metadata": {
  "kernelspec": {
   "display_name": "Python 2",
   "language": "python",
   "name": "python2"
  },
  "language_info": {
   "codemirror_mode": {
    "name": "ipython",
    "version": 2.0
   },
   "file_extension": ".py",
   "mimetype": "text/x-python",
   "name": "python",
   "nbconvert_exporter": "python",
   "pygments_lexer": "ipython2",
   "version": "2.7.12"
  }
 },
 "nbformat": 4,
 "nbformat_minor": 0
}