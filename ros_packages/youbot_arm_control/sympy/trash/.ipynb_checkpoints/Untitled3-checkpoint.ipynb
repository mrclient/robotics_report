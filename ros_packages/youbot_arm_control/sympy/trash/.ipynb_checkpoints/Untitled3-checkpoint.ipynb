{
 "cells": [
  {
   "cell_type": "code",
   "execution_count": 5,
   "metadata": {
    "collapsed": true
   },
   "outputs": [],
   "source": [
    "from __future__ import division\n",
    "from IPython.display import display\n",
    "\n",
    "from sympy import Matrix\n",
    "from sympy.interactive import printing\n",
    "\n",
    "printing.init_printing(use_latex='mathjax')\n",
    "\n",
    "import sympy as sym\n",
    "from sympy import *"
   ]
  },
  {
   "cell_type": "code",
   "execution_count": 25,
   "metadata": {
    "collapsed": false
   },
   "outputs": [
    {
     "data": {
      "text/latex": [
       "$$\\left[\\begin{matrix}\\cos{\\left (a \\right )} & 0 & \\sin{\\left (a \\right )}\\\\0 & -1 & 0\\\\\\sin{\\left (a \\right )} & 0 & - \\cos{\\left (a \\right )}\\end{matrix}\\right]$$"
      ],
      "text/plain": [
       "⎡cos(a)  0   sin(a) ⎤\n",
       "⎢                   ⎥\n",
       "⎢  0     -1     0   ⎥\n",
       "⎢                   ⎥\n",
       "⎣sin(a)  0   -cos(a)⎦"
      ]
     },
     "execution_count": 25,
     "metadata": {},
     "output_type": "execute_result"
    }
   ],
   "source": [
    "a = Symbol('a')\n",
    "b = pi\n",
    "c = -pi/2\n",
    "Ry1 = Matrix([[cos(pi/2 - a), 0, sin(pi/2 -a)],\n",
    "            [0, 1, 0],\n",
    "            [-sin(pi/2 -a), 0, cos(pi/2 -a)]])\n",
    "\n",
    "Rz = Matrix([[cos(b), -sin(b), 0],\n",
    "             [sin(b), cos(b), 0],\n",
    "             [0, 0, 1]])\n",
    "\n",
    "Ry2 = Matrix([[cos(c), 0, sin(c)],\n",
    "            [0, 1, 0],\n",
    "            [-sin(c), 0, cos(c)]])\n",
    "\n",
    "R = Ry1*Rz*Ry2\n",
    "R"
   ]
  },
  {
   "cell_type": "code",
   "execution_count": 27,
   "metadata": {
    "collapsed": false
   },
   "outputs": [
    {
     "ename": "NameError",
     "evalue": "name 'self' is not defined",
     "output_type": "error",
     "traceback": [
      "\u001b[0;31m---------------------------------------------------------------------------\u001b[0m",
      "\u001b[0;31mNameError\u001b[0m                                 Traceback (most recent call last)",
      "\u001b[0;32m<ipython-input-27-7ecdb45fa990>\u001b[0m in \u001b[0;36m<module>\u001b[0;34m()\u001b[0m\n\u001b[1;32m      2\u001b[0m t = Matrix([[   cos(pi/2 - alpha), 0, sin(pi/2 - alpha), 0],\n\u001b[1;32m      3\u001b[0m               \u001b[0;34m[\u001b[0m \u001b[0;36m0\u001b[0m\u001b[0;34m,\u001b[0m \u001b[0;34m-\u001b[0m\u001b[0;36m1\u001b[0m\u001b[0;34m,\u001b[0m \u001b[0;36m0\u001b[0m\u001b[0;34m,\u001b[0m \u001b[0;36m0\u001b[0m\u001b[0;34m]\u001b[0m\u001b[0;34m,\u001b[0m\u001b[0;34m\u001b[0m\u001b[0m\n\u001b[0;32m----> 4\u001b[0;31m               \u001b[0;34m[\u001b[0m \u001b[0msin\u001b[0m\u001b[0;34m(\u001b[0m\u001b[0mpi\u001b[0m\u001b[0;34m/\u001b[0m\u001b[0;36m2\u001b[0m \u001b[0;34m-\u001b[0m \u001b[0malpha\u001b[0m\u001b[0;34m)\u001b[0m\u001b[0;34m,\u001b[0m \u001b[0;36m0\u001b[0m\u001b[0;34m,\u001b[0m \u001b[0;34m-\u001b[0m\u001b[0mcos\u001b[0m\u001b[0;34m(\u001b[0m\u001b[0mpi\u001b[0m\u001b[0;34m/\u001b[0m\u001b[0;36m2\u001b[0m \u001b[0;34m-\u001b[0m \u001b[0malpha\u001b[0m\u001b[0;34m)\u001b[0m\u001b[0;34m,\u001b[0m \u001b[0mself\u001b[0m\u001b[0;34m.\u001b[0m\u001b[0mn\u001b[0m\u001b[0;34m]\u001b[0m\u001b[0;34m,\u001b[0m\u001b[0;34m\u001b[0m\u001b[0m\n\u001b[0m\u001b[1;32m      5\u001b[0m               [ 0, 0, 0, 1]])\n",
      "\u001b[0;31mNameError\u001b[0m: name 'self' is not defined"
     ]
    }
   ],
   "source": [
    "alpha = 18*pi/180\n",
    "n = 0.52\n",
    "t = Matrix([[   cos(pi/2 - alpha), 0, sin(pi/2 - alpha), 0],\n",
    "              [ 0, -1, 0, 0],\n",
    "              [ sin(pi/2 - alpha), 0, -cos(pi/2 - alpha), n],\n",
    "              [ 0, 0, 0, 1]])\n"
   ]
  }
 ],
 "metadata": {
  "kernelspec": {
   "display_name": "Python 3",
   "language": "python",
   "name": "python3"
  },
  "language_info": {
   "codemirror_mode": {
    "name": "ipython",
    "version": 3
   },
   "file_extension": ".py",
   "mimetype": "text/x-python",
   "name": "python",
   "nbconvert_exporter": "python",
   "pygments_lexer": "ipython3",
   "version": "3.6.1"
  }
 },
 "nbformat": 4,
 "nbformat_minor": 2
}
