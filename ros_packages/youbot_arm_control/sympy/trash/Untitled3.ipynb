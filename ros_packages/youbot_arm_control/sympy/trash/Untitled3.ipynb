{
 "cells": [
  {
   "cell_type": "code",
   "execution_count": 5,
   "metadata": {
    "collapsed": true
   },
   "outputs": [],
   "source": [
    "from __future__ import division\n",
    "from IPython.display import display\n",
    "\n",
    "from sympy import Matrix\n",
    "from sympy.interactive import printing\n",
    "\n",
    "printing.init_printing(use_latex='mathjax')\n",
    "\n",
    "import sympy as sym\n",
    "from sympy import *"
   ]
  },
  {
   "cell_type": "code",
   "execution_count": 25,
   "metadata": {
    "collapsed": false
   },
   "outputs": [
    {
     "data": {
      "text/latex": [
       "$$\\left[\\begin{matrix}\\cos{\\left (a \\right )} & 0 & \\sin{\\left (a \\right )}\\\\0 & -1 & 0\\\\\\sin{\\left (a \\right )} & 0 & - \\cos{\\left (a \\right )}\\end{matrix}\\right]$$"
      ],
      "text/plain": [
       "⎡cos(a)  0   sin(a) ⎤\n",
       "⎢                   ⎥\n",
       "⎢  0     -1     0   ⎥\n",
       "⎢                   ⎥\n",
       "⎣sin(a)  0   -cos(a)⎦"
      ]
     },
     "execution_count": 25,
     "metadata": {},
     "output_type": "execute_result"
    }
   ],
   "source": [
    "a = Symbol('a')\n",
    "b = pi\n",
    "c = -pi/2\n",
    "Ry1 = Matrix([[cos(pi/2 - a), 0, sin(pi/2 -a)],\n",
    "            [0, 1, 0],\n",
    "            [-sin(pi/2 -a), 0, cos(pi/2 -a)]])\n",
    "\n",
    "Rz = Matrix([[cos(b), -sin(b), 0],\n",
    "             [sin(b), cos(b), 0],\n",
    "             [0, 0, 1]])\n",
    "\n",
    "Ry2 = Matrix([[cos(c), 0, sin(c)],\n",
    "            [0, 1, 0],\n",
    "            [-sin(c), 0, cos(c)]])\n",
    "\n",
    "R = Ry1*Rz*Ry2\n",
    "R"
   ]
  },
  {
   "cell_type": "code",
   "execution_count": 43,
   "metadata": {
    "collapsed": false
   },
   "outputs": [
    {
     "data": {
      "text/latex": [
       "$$\\left[\\begin{matrix}1.0\\\\0\\\\0.52\\\\1\\end{matrix}\\right]$$"
      ],
      "text/plain": [
       "⎡1.0 ⎤\n",
       "⎢    ⎥\n",
       "⎢ 0  ⎥\n",
       "⎢    ⎥\n",
       "⎢0.52⎥\n",
       "⎢    ⎥\n",
       "⎣ 1  ⎦"
      ]
     },
     "execution_count": 43,
     "metadata": {},
     "output_type": "execute_result"
    }
   ],
   "source": [
    "alpha = 0.31415\n",
    "n = 0.52\n",
    "t = Matrix([[   cos(alpha), 0, sin(alpha), 0],\n",
    "              [ 0, -1, 0, 0],\n",
    "              [ sin(alpha), 0, -cos(alpha), n],\n",
    "              [ 0, 0, 0, 1]])\n",
    "t * Matrix([[cos(alpha)],[0],[sin(alpha)],[1]])"
   ]
  }
 ],
 "metadata": {
  "kernelspec": {
   "display_name": "Python 3",
   "language": "python",
   "name": "python3"
  },
  "language_info": {
   "codemirror_mode": {
    "name": "ipython",
    "version": 3
   },
   "file_extension": ".py",
   "mimetype": "text/x-python",
   "name": "python",
   "nbconvert_exporter": "python",
   "pygments_lexer": "ipython3",
   "version": "3.6.1"
  }
 },
 "nbformat": 4,
 "nbformat_minor": 2
}
