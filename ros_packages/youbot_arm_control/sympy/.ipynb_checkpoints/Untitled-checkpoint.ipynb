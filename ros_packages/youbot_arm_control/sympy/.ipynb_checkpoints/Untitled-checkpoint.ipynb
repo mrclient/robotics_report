{
 "cells": [
  {
   "cell_type": "code",
   "execution_count": 172,
   "metadata": {
    "collapsed": false
   },
   "outputs": [
    {
     "data": {
      "text/latex": [
       "$$\\left[\\begin{matrix}0.5 \\dot{q_1}^{2} \\left ( \\right ) + 0.5 \\dot{q_2}^{2} \\left ( \\right ) + 0.5 \\dot{q_3}^{2} \\left ( \\right ) + 0.5 \\dot{q_4}^{2} \\left ( \\right ) + 0.5 \\dot{q_5}^{2} \\left ( \\right )\\end{matrix}\\right]$$"
      ],
      "text/plain": [
       "⎡             2                   2                   2                   2   \n",
       "⎣0.5⋅\\dot{q_1} ⋅() + 0.5⋅\\dot{q_2} ⋅() + 0.5⋅\\dot{q_3} ⋅() + 0.5⋅\\dot{q_4} ⋅()\n",
       "\n",
       "                2   ⎤\n",
       " + 0.5⋅\\dot{q_5} ⋅()⎦"
      ]
     },
     "execution_count": 172,
     "metadata": {},
     "output_type": "execute_result"
    }
   ],
   "source": [
    "from __future__ import division\n",
    "from IPython.display import display\n",
    "\n",
    "from sympy import Matrix\n",
    "from sympy.interactive import printing\n",
    "\n",
    "printing.init_printing(use_latex='mathjax')\n",
    "\n",
    "import sympy as sym\n",
    "import scipy\n",
    "import pdb\n",
    "from sympy import *\n",
    "from sympy import Symbol, solve\n",
    "\n",
    "\n",
    "m = symbols('m_0 m_1 m_2 m_3 m_4 m_5')\n",
    "g = symbols('g_0')\n",
    "\n",
    "xc = symbols('x_{c0} x_{c1} x_{c2} x_{c3} x_{c4} x_{c5}')\n",
    "yc = symbols('y_{c0} y_{c1} y_{c2} y_{c3} y_{c4} y_{c5}')\n",
    "zc = symbols('z_{c0} z_{c1} z_{c2} z_{c3} z_{c4} z_{c5}')\n",
    "x = symbols('x_{0} x_{1} x_{2} x_{3} x_{4} x_{5}')\n",
    "y = symbols('y_{0} y_{1} y_{2} y_{3} y_{4} y_{5}')\n",
    "z = symbols('z_{0} z_{1} z_{2} z_{3} z_{4} z_{5}')\n",
    "\n",
    "\n",
    "g0 = Matrix([[0],[0],[-g]])\n",
    "\n",
    "l = Matrix([0])\n",
    "for i in range(1, 6):\n",
    "    r = Matrix([xc[i], yc[i], zc[i]])\n",
    "    l = m[i] * transpose(g0) * r + l \n",
    "    \n",
    "U = -l\n",
    "U\n",
    "\n",
    "#r = symbols('r_0 r_1 r_2 r_3 r_4 r_5')\n",
    "#rc = symbols('r_{0,c0}^{0} r_{0,c1}^{0} r_{0,c2}^{0} r_{0,c3}^{0} r_{0,c4}^{0} r_{0,c5}^{0}')\n",
    "#z = symbols('z_0^0 z_1^0 z_2^0 z_3^0 z_4^0 z_5^0')\n",
    "\n",
    "i = 0\n",
    "rc = Matrix([[xc[0], yc[0], zc[0]], [xc[1], yc[1], zc[1]], [xc[2], yc[2], zc[2]], [xc[3], yc[3], zc[3]],\n",
    "            [xc[4], yc[4], zc[5]]])\n",
    "r = Matrix([[x[0], y[0], z[0]], [x[1], y[1], z[1]], [x[2], y[2], z[2]], [x[3], y[3], z[3]],\n",
    "            [x[4], y[4], z[5]]])\n",
    "\n",
    "z = Matrix([[0,0,1], [0, -1, 0], [0,-1,0], [0, -1, 0], [1,0,0]])\n",
    "\n",
    "O = [0,0,0]\n",
    "Jv1 = Matrix([[z[0,:].cross((rc[1,:] - r[0,:]))],\n",
    "             O,O,O,O\n",
    "             ])\n",
    "\n",
    "\n",
    "qs = symbols('\\dot{q_0} \\dot{q_1} \\dot{q_2} \\dot{q_3} \\dot{q_4} \\dot{q_5}')\n",
    "q = Matrix([qs[1], qs[2], qs[3], qs[4], qs[5]])\n",
    "K = 1/2 * transpose(q) * () * q\n",
    "K\n"
   ]
  },
  {
   "cell_type": "code",
   "execution_count": 173,
   "metadata": {
    "collapsed": false
   },
   "outputs": [
    {
     "data": {
      "text/latex": [
       "$$\\left[\\begin{matrix}y_{0} - y_{c1} & - x_{0} + x_{c1} & 0\\end{matrix}\\right]$$"
      ],
      "text/plain": [
       "[y_{0} - y_{c1}  -x_{0} + x_{c1}  0]"
      ]
     },
     "execution_count": 173,
     "metadata": {},
     "output_type": "execute_result"
    }
   ],
   "source": [
    "Jv1\n"
   ]
  },
  {
   "cell_type": "code",
   "execution_count": null,
   "metadata": {
    "collapsed": true
   },
   "outputs": [],
   "source": []
  },
  {
   "cell_type": "code",
   "execution_count": null,
   "metadata": {
    "collapsed": true
   },
   "outputs": [],
   "source": []
  }
 ],
 "metadata": {
  "kernelspec": {
   "display_name": "Python 2",
   "language": "python",
   "name": "python2"
  },
  "language_info": {
   "codemirror_mode": {
    "name": "ipython",
    "version": 2
   },
   "file_extension": ".py",
   "mimetype": "text/x-python",
   "name": "python",
   "nbconvert_exporter": "python",
   "pygments_lexer": "ipython2",
   "version": "2.7.12"
  }
 },
 "nbformat": 4,
 "nbformat_minor": 2
}
