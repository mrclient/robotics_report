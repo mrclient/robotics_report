{
 "cells": [
  {
   "cell_type": "code",
   "execution_count": 2,
   "metadata": {
    "collapsed": false
   },
   "outputs": [],
   "source": [
    "from __future__ import division\n",
    "from IPython.display import display\n",
    "\n",
    "import time\n",
    "\n",
    "#from symengine import cos, sin\n",
    "#from sympy import simplify, transpose, Matrix, symbols, pi, eye\n",
    "from sympy import *\n",
    "import sympy as sym\n",
    "from sympy.interactive import printing\n",
    "printing.init_printing(use_latex='mathjax')"
   ]
  },
  {
   "cell_type": "code",
   "execution_count": 4,
   "metadata": {
    "collapsed": true
   },
   "outputs": [],
   "source": [
    "# MATRICES and additional stuff\n",
    "\n",
    "def mySimple(expr):\n",
    "    \"how simpify\"\n",
    "    expr = simplify(expand(expr))\n",
    "    return expr\n",
    "\n",
    "# !dont remember where need add theta_2 (defaut)\n",
    "def T(i, j, simp=False):\n",
    "    \"homogeneus matrices, i>j\"\n",
    "    if Ts[i][j] != -1:\n",
    "        return Ts[i][j]\n",
    "    else:\n",
    "        H = eye(4)\n",
    "        for k in range(i, j):\n",
    "            Rz = Matrix([[cos(thi[i]), -sin(thi[i]), 0, 0],[sin(thi[i]), cos(thi[i]), 0, 0],[0,0,1,0],[0,0,0,1]])\n",
    "            Rx = Matrix([[1, 0, 0, 0],[0, cos(alphai[i]), -sin(alphai[i]), 0],[0,sin(alphai[i]), cos(alphai[i]), 0],[0,0,0,1]])\n",
    "            Tz = Matrix([[1,0,0,0],[0,1,0,0],[0,0,1, di[i]],[0,0,0,1]])\n",
    "            Tx = Matrix([[1,0,0,ai[i]],[0,1,0,0],[0,0,1, 0],[0,0,0,1]])\n",
    "            dT = Rz*Tz*Tx*Rx\n",
    "            H = H * dT\n",
    "        if simp:\n",
    "            H = mySimple(H)\n",
    "        Ts[i][j] = H\n",
    "        return H\n",
    "\n",
    "def R(i, j, simp=False):\n",
    "    \"rotation matrices, i>j\"\n",
    "    if Rs[i][j] != -1:\n",
    "        return Rs[i][j]\n",
    "    else:\n",
    "        r = T(i,j)[:3, :3]\n",
    "        if simp:\n",
    "            r = mySimple(r)\n",
    "        Rs[i][j] = r\n",
    "        return r\n",
    "\n",
    "def getZ(i, simp=True):\n",
    "    \"Z vectors in 0 RF\"\n",
    "    if Zs[i] != -1:\n",
    "        return Zs[i]\n",
    "    else:\n",
    "        z = R(0, i) * Matrix([[0],[0],[1]])\n",
    "        Zs[i] = z\n",
    "        return z\n",
    "\n",
    "# r vectors    \n",
    "def get_r0_0To(i):\n",
    "    \"r_{0, i}^0 in 0 RF\"\n",
    "    r = T(0, i)[:3, 3]\n",
    "    return r # 3x1\n",
    "\n",
    "def get_ri_0To(i, simp=False):\n",
    "    \"r_{0, i} in 0 RF\"\n",
    "    r = transpose(R(0, i)) * get_r0_0To(i)\n",
    "    if simp:\n",
    "        r = mySimple(r)\n",
    "    return r # 3x1\n",
    "\n",
    "def get_rci(i):\n",
    "    \"rc_{i, ci} in i RF\"\n",
    "    # return Matrix([[xc[i]],[yc[i]],[zc[i]], [1]]) # 4x1\n",
    "    return Matrix([[xc[i]],[yc[i]],[zc[i]]]) # 3x1\n",
    "    \n",
    "def get_rc0(i, simp=False):\n",
    "    \"rci in 0 RF\"\n",
    "    rc0 = T(0, i) * getrci(i)\n",
    "    if simp:\n",
    "        rc0 = mySimple(rc0)\n",
    "    return rc0 # 3x1\n",
    "\n",
    "def get_g(i, simp=False):\n",
    "    g = transpose(R(0, i)) * g0\n",
    "    if simp:\n",
    "        g = mySimple(g)\n",
    "    return g # 3x1\n",
    "\n",
    "def getU(simp=False):\n",
    "    \"potential energy\"\n",
    "    U = Matrix([0])\n",
    "    for i in range(0, n):\n",
    "        U = U + m[i] * transpose(get_g(i+1)) * get_ri_0To(i+1) + transpose(get_g(i+1)) * (m[i] * get_rci(i+1))\n",
    "        print('U for link_' + str(i) + ' was computed!')\n",
    "    if simp:\n",
    "        U = mySimple(U)\n",
    "    return -U\n"
   ]
  },
  {
   "cell_type": "code",
   "execution_count": 6,
   "metadata": {
    "collapsed": false
   },
   "outputs": [],
   "source": [
    "# INIT VARIABLES AND PARAMETERS FOR LATEX\n",
    "n = 5\n",
    "g = 9.82\n",
    "g0 = Matrix([[0],[0],[-g]])\n",
    "# q = symbols(\"q_1 q_2 q_3 q_4 q_5\")\n",
    "# dq = symbols('\\dot{q_1} \\dot{q_2} \\dot{q_3} \\dot{q_4} \\dot{q_5}')\n",
    "# ddq = symbols('\\ddot{q_1} \\ddot{q_2} \\ddot{q_3} \\ddot{q_4} \\ddot{q_5}')\n",
    "# INIT FUNCTIONS q_i(t)\n",
    "t = Symbol('t')\n",
    "q = list()\n",
    "dq = list()\n",
    "ddq = list()\n",
    "for i in range(0, n):\n",
    "    q.append(Function('q_' + str(i+1))(t))\n",
    "    dq.append(diff(q[i], t))\n",
    "    ddq.append(diff(q[i], t, 2))\n",
    "\n",
    "m = symbols('m_1 m_2 m_3 m_4 m_5')\n",
    "# vars for radius vectors 0..5\n",
    "xc = symbols('x_{c0} x_{c1} x_{c2} x_{c3} x_{c4} x_{c5}')\n",
    "yc = symbols('y_{c0} y_{c1} y_{c2} y_{c3} y_{c4} y_{c5}')\n",
    "zc = symbols('z_{c0} z_{c1} z_{c2} z_{c3} z_{c4} z_{c5}')\n",
    "x = symbols('x_{0} x_{1} x_{2} x_{3} x_{4} x_{5}')\n",
    "y = symbols('y_{0} y_{1} y_{2} y_{3} y_{4} y_{5}')\n",
    "z = symbols('z_{0} z_{1} z_{2} z_{3} z_{4} z_{5}')\n",
    "# DH parameters\n",
    "a = symbols(\"a_1 a_2 a_3 a_4 a_5\")\n",
    "d = symbols(\"d_1 d_2 d_3 d_4 d_5\")\n",
    "ai = [a[0], a[1], a[2], 0, 0]\n",
    "di = [d[0], 0, 0, 0, d[4]]\n",
    "alphai = [pi/2, 0, 0, pi/2, 0]\n",
    "thi = [q[0],q[1],q[2],q[3],q[4]]\n",
    "# init tensors 1..5\n",
    "Ixx = symbols('I_{1_{xx}} I_{2_{xx}} I_{3_{xx}} I_{4_{xx}} I_{5_{xx}}')\n",
    "Iyy = symbols('I_{1_{yy}} I_{2_{yy}} I_{3_{yy}} I_{4_{yy}} I_{5_{yy}}')\n",
    "Izz = symbols('I_{1_{zz}} I_{2_{zz}} I_{3_{zz}} I_{4_{zz}} I_{5_{zz}}')\n",
    "Ixy = symbols('I_{1_{xy}} I_{2_{xy}} I_{3_{xy}} I_{4_{xy}} I_{5_{xy}}')\n",
    "Ixz = symbols('I_{1_{xz}} I_{2_{xz}} I_{3_{xz}} I_{4_{xz}} I_{5_{xz}}')\n",
    "Iyz = symbols('I_{1_{yz}} I_{2_{yz}} I_{3_{yz}} I_{4_{yz}} I_{5_{yz}}')\n",
    "TENSORs = [-1 for j in range(n+1)]\n",
    "for i in range(0, n):\n",
    "    TENSORs[i+1] = Matrix([[Ixx[i], Ixy[i], Ixz[i]],\n",
    "                         [Ixy[i], Iyy[i], Iyz[i]],\n",
    "                         [Ixz[i], Iyz[i], Izz[i]]])\n",
    "\n",
    "\"initialization of arrays for frequently use matrices\"\n",
    "Ts = [[-1 for j in range(n+1)] for i in range(n+1)]\n",
    "Rs = [[-1 for j in range(n+1)] for i in range(n+1)]\n",
    "Zs = [-1 for j in range(n+1)]"
   ]
  },
  {
   "cell_type": "code",
   "execution_count": 8,
   "metadata": {
    "collapsed": true
   },
   "outputs": [],
   "source": [
    "# BLOCK OF VARIABLES FOR CODE GENERATION\n",
    "xc = symbols('xc0 xc1 xc2 xc3 xc4 xc5')\n",
    "yc = symbols('yc0 yc1 yc2 yc3 yc4 yc5')\n",
    "zc = symbols('zc0 zc1 zc2 zc3 zc4 zc5')\n",
    "x = symbols('x0 x1 x2 x3 x4 x5')\n",
    "y = symbols('y0 y1 y2 y3 y4 y5')\n",
    "z = symbols('z0 z1 z2 z3 z4 z6')\n",
    "# DH parameters\n",
    "a = symbols(\"a_1 a_2 a_3 a_4 a_5\")\n",
    "d = symbols(\"d_1 d_2 d_3 d_4 d_5\")\n",
    "ai = [a[0], a[1], a[2], 0, 0]\n",
    "di = [d[0], 0, 0, 0, d[4]]\n",
    "alphai = [pi/2, 0, 0, pi/2, 0]\n",
    "thi = [q[0],q[1],q[2],q[3],q[4]]\n",
    "# init tensors 1..5\n",
    "Ixx = symbols('I1xx I2xx I3xx I4xx I5xx')\n",
    "Iyy = symbols('I1yy I2yy I3yy I4yy I5yy')\n",
    "Izz = symbols('I1zz I2zz I3zz I4zz I5zz')\n",
    "Ixy = symbols('I1xy I2xy I3xy I4xy I5xy')\n",
    "Ixz = symbols('I1xz I2xz I3xz I4xz I5xz')\n",
    "Iyz = symbols('I1yz I2yz I3yz I4yz I5yz')\n"
   ]
  },
  {
   "cell_type": "code",
   "execution_count": 10,
   "metadata": {
    "collapsed": false
   },
   "outputs": [],
   "source": [
    "# INIT JACOBIANS\n",
    "O = Matrix([0,0,0])\n",
    "Jv = [[O for j in range(n)] for i in range(n)]\n",
    "Jomega = [[O for j in range(n)] for i in range(n)]\n",
    "\n",
    "# for v\n",
    "for i in range(0, n):\n",
    "    for j in range(0, i+1):\n",
    "        el = getZ(i).cross(get_r0_0To(j+1) - get_r0_0To(i))\n",
    "        Jv[i][j] = el\n",
    "\n",
    "# for omega\n",
    "for i in range(0, n):\n",
    "    for j in range(0, i+1):\n",
    "        el = getZ(j)\n",
    "        Jomega[i][j] = el\n",
    "        \n",
    "def getJv(i):\n",
    "    \"Jacobian liner velocity i=1..5\"\n",
    "    j = Matrix(Jv[i-1])\n",
    "    j = j.reshape(5,3)\n",
    "    return transpose(j)\n",
    "\n",
    "def getJomega(i):\n",
    "    \"Jacobian angular velocity i=1..5\"\n",
    "    j = Matrix(Jomega[i-1])\n",
    "    j = j.reshape(5,3)\n",
    "    return transpose(j)\n",
    "\n",
    "def get_v0(i, simp=False):\n",
    "    v = getJv(i) * Matrix(dq)\n",
    "    return v\n",
    "    \n",
    "def get_omega0(i, simp=False):\n",
    "    omega = getJomega(i) * Matrix(dq)\n",
    "    return omega\n",
    "\n",
    "def get_vi(i, simp=False):\n",
    "    v = transpose(R(0, i)) * get_v0(i)\n",
    "    if simp:\n",
    "        v = mySimple(v)\n",
    "    return v # 3x1\n",
    "\n",
    "def get_omegai(i, simp=False):\n",
    "    omega = transpose(R(0, i)) * get_omega0(i)\n",
    "    if simp:\n",
    "        omega = mySimple(omega)\n",
    "    return omega # 3x1\n",
    "\n"
   ]
  },
  {
   "cell_type": "code",
   "execution_count": 12,
   "metadata": {
    "collapsed": false
   },
   "outputs": [],
   "source": [
    "# U = getU(True)\n",
    "# %store U"
   ]
  },
  {
   "cell_type": "code",
   "execution_count": 13,
   "metadata": {
    "collapsed": false
   },
   "outputs": [
    {
     "name": "stdout",
     "output_type": "stream",
     "text": [
      "start computig of L\n",
      "2.6226043701171875e-06: j= 0is OK!\n",
      "1.430511474609375e-06: j= 1is OK!\n",
      "1.430511474609375e-06: j= 2is OK!\n",
      "9.5367431640625e-07: j= 3is OK!\n",
      "2.86102294921875e-06: j= 4is OK!\n",
      "1.9073486328125e-06: j= 5is OK!\n",
      "1.6689300537109375e-06: j= 6is OK!\n",
      "7.152557373046875e-07: j= 7is OK!\n",
      "9.5367431640625e-07: j= 8is OK!\n",
      "1.1920928955078125e-06: j= 9is OK!\n",
      "0.41436266899108887: i= 0 row of L was computed!\n",
      "2.86102294921875e-06: j= 0is OK!\n",
      "1.430511474609375e-06: j= 1is OK!\n",
      "1.1920928955078125e-06: j= 2is OK!\n",
      "9.5367431640625e-07: j= 3is OK!\n",
      "9.5367431640625e-07: j= 4is OK!\n",
      "7.152557373046875e-07: j= 5is OK!\n",
      "2.86102294921875e-06: j= 6is OK!\n",
      "9.5367431640625e-07: j= 7is OK!\n",
      "9.5367431640625e-07: j= 8is OK!\n",
      "1.1920928955078125e-06: j= 9is OK!\n",
      "0.06336593627929688: i= 1 row of L was computed!\n",
      "2.384185791015625e-06: j= 0is OK!\n",
      "1.1920928955078125e-06: j= 1is OK!\n",
      "1.1920928955078125e-06: j= 2is OK!\n",
      "1.430511474609375e-06: j= 3is OK!\n",
      "2.86102294921875e-06: j= 4is OK!\n",
      "1.1920928955078125e-06: j= 5is OK!\n",
      "1.1920928955078125e-06: j= 6is OK!\n",
      "9.5367431640625e-07: j= 7is OK!\n",
      "1.1920928955078125e-06: j= 8is OK!\n",
      "9.5367431640625e-07: j= 9is OK!\n",
      "0.1372237205505371: i= 2 row of L was computed!\n",
      "2.384185791015625e-06: j= 0is OK!\n",
      "1.1920928955078125e-06: j= 1is OK!\n",
      "1.1920928955078125e-06: j= 2is OK!\n",
      "9.5367431640625e-07: j= 3is OK!\n",
      "1.430511474609375e-06: j= 4is OK!\n",
      "1.1920928955078125e-06: j= 5is OK!\n",
      "1.1920928955078125e-06: j= 6is OK!\n",
      "1.430511474609375e-06: j= 7is OK!\n",
      "1.430511474609375e-06: j= 8is OK!\n",
      "1.1920928955078125e-06: j= 9is OK!\n",
      "0.25178980827331543: i= 3 row of L was computed!\n",
      "2.6226043701171875e-06: j= 0is OK!\n",
      "1.1920928955078125e-06: j= 1is OK!\n",
      "9.5367431640625e-07: j= 2is OK!\n",
      "1.1920928955078125e-06: j= 3is OK!\n",
      "9.5367431640625e-07: j= 4is OK!\n",
      "9.5367431640625e-07: j= 5is OK!\n",
      "1.9073486328125e-06: j= 6is OK!\n",
      "1.6689300537109375e-06: j= 7is OK!\n",
      "1.1920928955078125e-06: j= 8is OK!\n",
      "1.430511474609375e-06: j= 9is OK!\n",
      "0.31763291358947754: i= 4 row of L was computed!\n",
      "!total time: 1.1881349086761475\n"
     ]
    }
   ],
   "source": [
    "# LAGRANGIAN\n",
    "nL = 10\n",
    "L = [[-1 for i in range(0,nL)] for j in range(0, n)]\n",
    "tm = time.time\n",
    "totalT = tm()\n",
    "print('start computig of L')\n",
    "for i in range(0, n):\n",
    "    startTrow = tm()\n",
    "    l24 = get_vi(i).cross(get_omegai(i)) + get_g(i)\n",
    "    omegai = get_omegai(i)\n",
    "    L[i][0] = Rational(1,2) * transpose(get_vi(i)) * get_vi(i) + transpose(get_g(i)) * get_ri_0To(i)\n",
    "    #L[i][0] = Rational(1,2) * transpose(get_v0(i)) * get_v0(i) + transpose(g0) * get_r0_0To(i)\n",
    "    L[i][1] = l24[0]\n",
    "    L[i][2] = l24[1]\n",
    "    L[i][3] = l24[2]\n",
    "    L[i][4] = Rational(1,2) * omegai[0]**2\n",
    "    L[i][5] = Rational(1,2) * omegai[1]**2\n",
    "    L[i][6] = Rational(1,2) * omegai[2]**2\n",
    "    L[i][7] = omegai[0]**2 * omegai[1]**2\n",
    "    L[i][8] = omegai[0]**2 * omegai[2]**2\n",
    "    L[i][9] = omegai[1]**2 * omegai[2]**2\n",
    "    for j in range(0, nL):\n",
    "        startTel = tm()\n",
    "        # L[i][j] = mySimple(L[i][j])\n",
    "        print(str(tm() - startTel) + ': j= ' + str(j) + 'is OK!')\n",
    "    print(str(tm() - startTrow) + ': i= ' + str(i) + ' row of L was computed!')\n",
    "\n",
    "totalT = tm() - totalT;\n",
    "print('!total time: ' + str(totalT))\n"
   ]
  },
  {
   "cell_type": "code",
   "execution_count": 14,
   "metadata": {
    "collapsed": false,
    "scrolled": false
   },
   "outputs": [],
   "source": [
    "def operatorL(L, j, simp=False):\n",
    "    \"!sj and j are swapt, how in report\"\n",
    "    dL_Ddq = diff(L, dq[j])\n",
    "    dLdq_Dt = diff(dL_Ddq, t)\n",
    "    dL_Dq = diff(L, q[j])\n",
    "    opL = dLdq_Dt - dL_Dq\n",
    "    if simp:\n",
    "        opL = mySimple(opL)\n",
    "    return opL"
   ]
  },
  {
   "cell_type": "code",
   "execution_count": 27,
   "metadata": {
    "collapsed": false
   },
   "outputs": [
    {
     "name": "stdout",
     "output_type": "stream",
     "text": [
      "1495397249.335128\n",
      "1495397249.4437997\n",
      "1495397249.9746053\n"
     ]
    },
    {
     "data": {
      "text/latex": [
       "$$142557$$"
      ],
      "text/plain": [
       "142557"
      ]
     },
     "execution_count": 27,
     "metadata": {},
     "output_type": "execute_result"
    }
   ],
   "source": [
    "tm = time.time\n",
    "i = 0\n",
    "print(tm())\n",
    "opL_1 = Rational(1,2) * transpose(get_vi(i)) * get_vi(i) + transpose(get_g(i)) * get_ri_0To(i)\n",
    "print(tm())\n",
    "opL_1 = operatorL(opL_1, 0)\n",
    "print(tm())\n",
    "len(str(opL_1))"
   ]
  },
  {
   "cell_type": "code",
   "execution_count": 28,
   "metadata": {
    "collapsed": false
   },
   "outputs": [
    {
     "name": "stdout",
     "output_type": "stream",
     "text": [
      "1495397253.5554838\n",
      "1495397253.6072137\n",
      "1495397254.1646156\n"
     ]
    },
    {
     "data": {
      "text/latex": [
       "$$142557$$"
      ],
      "text/plain": [
       "142557"
      ]
     },
     "execution_count": 28,
     "metadata": {},
     "output_type": "execute_result"
    }
   ],
   "source": [
    "print(tm())\n",
    "opL_2 = Rational(1,2) * transpose(get_v0(i)) * get_v0(i) + transpose(g0) * get_r0_0To(i)\n",
    "print(tm())\n",
    "opL_2 = operatorL(opL_2, 0)\n",
    "print(tm())\n",
    "len(str(opL_2))"
   ]
  },
  {
   "cell_type": "code",
   "execution_count": null,
   "metadata": {
    "collapsed": false
   },
   "outputs": [],
   "source": []
  },
  {
   "cell_type": "code",
   "execution_count": null,
   "metadata": {
    "collapsed": false
   },
   "outputs": [],
   "source": []
  },
  {
   "cell_type": "code",
   "execution_count": null,
   "metadata": {
    "collapsed": false
   },
   "outputs": [],
   "source": []
  },
  {
   "cell_type": "code",
   "execution_count": 18,
   "metadata": {
    "collapsed": false
   },
   "outputs": [],
   "source": [
    "CHI = [[0 for j in range(0, nL)] for i in range(0, n)]\n",
    "for i in range(0, n):\n",
    "    CHI[i][0] = m[i]\n",
    "    CHI[i][1] = m[i] * xc[i+1]\n",
    "    CHI[i][2] = m[i] * yc[i+1]\n",
    "    CHI[i][3] = m[i] * zc[i+1]\n",
    "    CHI[i][4] = Ixx[i]\n",
    "    CHI[i][5] = Iyy[i]\n",
    "    CHI[i][6] = Izz[i]\n",
    "    CHI[i][7] = Ixy[i]\n",
    "    CHI[i][8] = Ixz[i]\n",
    "    CHI[i][9] = Iyz[i]"
   ]
  },
  {
   "cell_type": "code",
   "execution_count": 19,
   "metadata": {
    "collapsed": false
   },
   "outputs": [],
   "source": [
    "TAU = [0 for j in range(0, n+1)]\n",
    "def get_tau(k, simp=False):\n",
    "    for j in range(k-1, n):\n",
    "        for i in range(0, nL):\n",
    "            opL = operatorL(L[j][i], j)\n",
    "            try:\n",
    "                TAU[k] = TAU[k] + CHI[j][i] * opL[0]\n",
    "            except TypeError:\n",
    "                TAU[k] = TAU[k] + CHI[j][i] * opL\n",
    "        print('tau_' + str(j) + ' was computed!')        \n",
    "    return TAU[k]"
   ]
  },
  {
   "cell_type": "code",
   "execution_count": 21,
   "metadata": {
    "collapsed": false
   },
   "outputs": [],
   "source": [
    "import sympy.printing.python as p\n",
    "opL_sym = operatorL(L[1][0], 0)\n",
    "opL = sympify(expand(opL_sym))\n"
   ]
  },
  {
   "cell_type": "code",
   "execution_count": 58,
   "metadata": {
    "collapsed": false
   },
   "outputs": [
    {
     "data": {
      "text/plain": [
       "\"a_1 = Symbol('a_1')\\nt = Symbol('t')\\nq_1 = Function('q_1')\\ne = a_1**2*sin(q_1(t))**4*Derivative(q_1(t), t, t) + 2*a_1**2*sin(q_1(t))**2*cos(q_1(t))**2*Derivative(q_1(t), t, t) + a_1**2*cos(q_1(t))**4*Derivative(q_1(t), t, t)\""
      ]
     },
     "execution_count": 58,
     "metadata": {},
     "output_type": "execute_result"
    }
   ],
   "source": [
    "import sympy\n",
    "sympy.python(opL[0])"
   ]
  },
  {
   "cell_type": "code",
   "execution_count": 96,
   "metadata": {
    "collapsed": false
   },
   "outputs": [
    {
     "data": {
      "text/plain": [
       "'a_1**2*sin(q[1])**4*ddq[1] + 2*a_1**2*sin(q[1])**2*cos(q[1])**2*ddq[1] + a_1**2*cos(q[1])**4*ddq[1]'"
      ]
     },
     "execution_count": 96,
     "metadata": {},
     "output_type": "execute_result"
    }
   ],
   "source": [
    "import re\n",
    "\n",
    "def python_gencode(expr):\n",
    "   \n",
    "    def repldq(m):\n",
    "        \"replace Derivativ and replace q_i(t) on dq_i and next dq[i]\"\n",
    "        lala = re.search(r\"[d]*q_[1-5]\", m.group(0))\n",
    "        t = re.findall(r\"[t]+\", m.group(0))\n",
    "        num = re.search(r\"[1-9]\", lala.group(0))\n",
    "        if len(t)-2 == 1:\n",
    "            return \"dq[\" + str(num.group(0)) +\"]\"\n",
    "        elif len(t)-2 == 2:\n",
    "            return \"ddq[\" + str(num.group(0)) + \"]\"\n",
    "            \n",
    "    def rmt(m):\n",
    "        return \"\"\n",
    "    \n",
    "    def replace_qi(m):\n",
    "        q_i = re.search(r\"q_[1-5]\", m.group(0))\n",
    "        num = re.search(r\"[1-9]\", q_i.group(0))\n",
    "        return \"q[\" + str(num.group(0)) + \"]\"\n",
    "    \n",
    "    # replace all Derivative(.*)\n",
    "    rerdq = re.sub(r\"Derivative\\([d]*q_[1-5]+\\(t\\),[\\w ,]+\\)\", repldq, expr)\n",
    "    # delete all \"(t)\"\n",
    "    remt = re.sub(r\"\\(t\\)\", rmt, rerdq)\n",
    "    # replace all q_i to q[i]\n",
    "    remt = re.sub(r\"q_[1-5]\", replace_qi, remt)\n",
    "    return remt\n",
    "python_gencode(str(opL[0]))\n",
    "    "
   ]
  },
  {
   "cell_type": "code",
   "execution_count": 16,
   "metadata": {
    "collapsed": false
   },
   "outputs": [],
   "source": [
    "import sympy.printing.octave as o\n",
    "import re\n",
    "\n",
    "def octaveButyfiler(expr):\n",
    "    ptq = r\"[d]*q_[1-5]\"\n",
    "    ptex = r\"Derivative\\([d]*q_[1-5]+\\(t\\),[\\w ,]+\\)\"\n",
    "    ptt = r\"\\(t\\)\"\n",
    "    pt = r\"[t]+\"\n",
    "\n",
    "    def repldq(m):\n",
    "        lala = re.search(ptq, m.group(0))\n",
    "        t = re.findall(pt, m.group(0))\n",
    "        if len(t)-2 == 1:\n",
    "            return \"d\" + lala.group(0) \n",
    "        elif len(t)-2 == 2:\n",
    "            return \"dd\" + lala.group(0) \n",
    "\n",
    "    def rmt(m):\n",
    "        return \"\"\n",
    "\n",
    "    rerdq = re.sub(ptex, repldq, expr)\n",
    "    remt = re.sub(ptt, rmt, rerdq)\n",
    "    return remt"
   ]
  },
  {
   "cell_type": "code",
   "execution_count": null,
   "metadata": {
    "collapsed": false
   },
   "outputs": [],
   "source": [
    "# f = open('xi', 'w')\n",
    "# xi = \"\"\n",
    "# i = 1\n",
    "# # xi+NumElementInRow+k\n",
    "# for k in range(0, nL):\n",
    "#     print(\"start_\" + str(k+1))\n",
    "#     xii = simplify(oL1[k])\n",
    "#     s = o.octave_code(xii, assign_to='xi'+str(i)+'_'+str(k+1), human=True, inline=True)\n",
    "#     xii = octaveButyfiler(s)\n",
    "#     xi += str(xii) + '\\n'\n",
    "#     print(\"end_\" + str(k+1) + \" from 1 to 10\")\n",
    "# f.write(xi11)"
   ]
  },
  {
   "cell_type": "code",
   "execution_count": 23,
   "metadata": {
    "collapsed": false
   },
   "outputs": [
    {
     "name": "stdout",
     "output_type": "stream",
     "text": [
      "computing start! 2017-05-21 21:58:55.203030\n",
      "\trow_0 start!\n",
      "\t\telement_0 start!\n",
      "\t\t\tsubElement_7 start at 2017-05-21 21:58:55.205277\n",
      "20943\n"
     ]
    },
    {
     "ename": "KeyboardInterrupt",
     "evalue": "",
     "output_type": "error",
     "traceback": [
      "\u001b[0;31m---------------------------------------------------------------------------\u001b[0m",
      "\u001b[0;31mKeyboardInterrupt\u001b[0m                         Traceback (most recent call last)",
      "\u001b[0;32m<ipython-input-23-277ba51f4574>\u001b[0m in \u001b[0;36m<module>\u001b[0;34m()\u001b[0m\n\u001b[1;32m     19\u001b[0m             \u001b[0mopL_sym\u001b[0m \u001b[0;34m=\u001b[0m \u001b[0moperatorL\u001b[0m\u001b[0;34m(\u001b[0m\u001b[0mL\u001b[0m\u001b[0;34m[\u001b[0m\u001b[0mi\u001b[0m\u001b[0;34m]\u001b[0m\u001b[0;34m[\u001b[0m\u001b[0mk\u001b[0m\u001b[0;34m]\u001b[0m\u001b[0;34m,\u001b[0m \u001b[0mj\u001b[0m\u001b[0;34m)\u001b[0m\u001b[0;34m\u001b[0m\u001b[0m\n\u001b[1;32m     20\u001b[0m             \u001b[0mprint\u001b[0m\u001b[0;34m(\u001b[0m\u001b[0mlen\u001b[0m\u001b[0;34m(\u001b[0m\u001b[0mstr\u001b[0m\u001b[0;34m(\u001b[0m\u001b[0mopL_sym\u001b[0m\u001b[0;34m)\u001b[0m\u001b[0;34m)\u001b[0m\u001b[0;34m)\u001b[0m\u001b[0;34m\u001b[0m\u001b[0m\n\u001b[0;32m---> 21\u001b[0;31m             \u001b[0mopL_sym\u001b[0m \u001b[0;34m=\u001b[0m \u001b[0msimplify\u001b[0m\u001b[0;34m(\u001b[0m\u001b[0mopL_sym\u001b[0m\u001b[0;34m)\u001b[0m\u001b[0;34m\u001b[0m\u001b[0m\n\u001b[0m\u001b[1;32m     22\u001b[0m             \u001b[0mprint\u001b[0m\u001b[0;34m(\u001b[0m\u001b[0mlen\u001b[0m\u001b[0;34m(\u001b[0m\u001b[0mstr\u001b[0m\u001b[0;34m(\u001b[0m\u001b[0mopL_sym\u001b[0m\u001b[0;34m)\u001b[0m\u001b[0;34m)\u001b[0m\u001b[0;34m)\u001b[0m\u001b[0;34m\u001b[0m\u001b[0m\n\u001b[1;32m     23\u001b[0m \u001b[0;34m\u001b[0m\u001b[0m\n",
      "\u001b[0;32m/home/kirix/anaconda3/envs/ipykernel_py3/lib/python3.6/site-packages/sympy/simplify/simplify.py\u001b[0m in \u001b[0;36msimplify\u001b[0;34m(expr, ratio, measure, fu)\u001b[0m\n\u001b[1;32m    566\u001b[0m     if expr.has(TrigonometricFunction) and not fu or expr.has(\n\u001b[1;32m    567\u001b[0m             HyperbolicFunction):\n\u001b[0;32m--> 568\u001b[0;31m         \u001b[0mexpr\u001b[0m \u001b[0;34m=\u001b[0m \u001b[0mtrigsimp\u001b[0m\u001b[0;34m(\u001b[0m\u001b[0mexpr\u001b[0m\u001b[0;34m,\u001b[0m \u001b[0mdeep\u001b[0m\u001b[0;34m=\u001b[0m\u001b[0;32mTrue\u001b[0m\u001b[0;34m)\u001b[0m\u001b[0;34m\u001b[0m\u001b[0m\n\u001b[0m\u001b[1;32m    569\u001b[0m \u001b[0;34m\u001b[0m\u001b[0m\n\u001b[1;32m    570\u001b[0m     \u001b[0;32mif\u001b[0m \u001b[0mexpr\u001b[0m\u001b[0;34m.\u001b[0m\u001b[0mhas\u001b[0m\u001b[0;34m(\u001b[0m\u001b[0mlog\u001b[0m\u001b[0;34m)\u001b[0m\u001b[0;34m:\u001b[0m\u001b[0;34m\u001b[0m\u001b[0m\n",
      "\u001b[0;32m/home/kirix/anaconda3/envs/ipykernel_py3/lib/python3.6/site-packages/sympy/simplify/trigsimp.py\u001b[0m in \u001b[0;36mtrigsimp\u001b[0;34m(expr, **opts)\u001b[0m\n\u001b[1;32m    511\u001b[0m                    }[method]\n\u001b[1;32m    512\u001b[0m \u001b[0;34m\u001b[0m\u001b[0m\n\u001b[0;32m--> 513\u001b[0;31m     \u001b[0;32mreturn\u001b[0m \u001b[0mtrigsimpfunc\u001b[0m\u001b[0;34m(\u001b[0m\u001b[0mexpr\u001b[0m\u001b[0;34m)\u001b[0m\u001b[0;34m\u001b[0m\u001b[0m\n\u001b[0m\u001b[1;32m    514\u001b[0m \u001b[0;34m\u001b[0m\u001b[0m\n\u001b[1;32m    515\u001b[0m \u001b[0;34m\u001b[0m\u001b[0m\n",
      "\u001b[0;32m/home/kirix/anaconda3/envs/ipykernel_py3/lib/python3.6/site-packages/sympy/simplify/trigsimp.py\u001b[0m in \u001b[0;36m<lambda>\u001b[0;34m(x)\u001b[0m\n\u001b[1;32m    504\u001b[0m     trigsimpfunc = {\n\u001b[1;32m    505\u001b[0m         \u001b[0;34m'fu'\u001b[0m\u001b[0;34m:\u001b[0m \u001b[0;34m(\u001b[0m\u001b[0;32mlambda\u001b[0m \u001b[0mx\u001b[0m\u001b[0;34m:\u001b[0m \u001b[0mfu\u001b[0m\u001b[0;34m(\u001b[0m\u001b[0mx\u001b[0m\u001b[0;34m,\u001b[0m \u001b[0;34m**\u001b[0m\u001b[0mopts\u001b[0m\u001b[0;34m)\u001b[0m\u001b[0;34m)\u001b[0m\u001b[0;34m,\u001b[0m\u001b[0;34m\u001b[0m\u001b[0m\n\u001b[0;32m--> 506\u001b[0;31m         \u001b[0;34m'matching'\u001b[0m\u001b[0;34m:\u001b[0m \u001b[0;34m(\u001b[0m\u001b[0;32mlambda\u001b[0m \u001b[0mx\u001b[0m\u001b[0;34m:\u001b[0m \u001b[0mfutrig\u001b[0m\u001b[0;34m(\u001b[0m\u001b[0mx\u001b[0m\u001b[0;34m)\u001b[0m\u001b[0;34m)\u001b[0m\u001b[0;34m,\u001b[0m\u001b[0;34m\u001b[0m\u001b[0m\n\u001b[0m\u001b[1;32m    507\u001b[0m         \u001b[0;34m'groebner'\u001b[0m\u001b[0;34m:\u001b[0m \u001b[0;34m(\u001b[0m\u001b[0;32mlambda\u001b[0m \u001b[0mx\u001b[0m\u001b[0;34m:\u001b[0m \u001b[0mgroebnersimp\u001b[0m\u001b[0;34m(\u001b[0m\u001b[0mx\u001b[0m\u001b[0;34m,\u001b[0m \u001b[0;34m**\u001b[0m\u001b[0mopts\u001b[0m\u001b[0;34m)\u001b[0m\u001b[0;34m)\u001b[0m\u001b[0;34m,\u001b[0m\u001b[0;34m\u001b[0m\u001b[0m\n\u001b[1;32m    508\u001b[0m         'combined': (lambda x: futrig(groebnersimp(x,\n",
      "\u001b[0;32m/home/kirix/anaconda3/envs/ipykernel_py3/lib/python3.6/site-packages/sympy/simplify/trigsimp.py\u001b[0m in \u001b[0;36mfutrig\u001b[0;34m(e, **kwargs)\u001b[0m\n\u001b[1;32m   1081\u001b[0m \u001b[0;34m\u001b[0m\u001b[0m\n\u001b[1;32m   1082\u001b[0m     \u001b[0mold\u001b[0m \u001b[0;34m=\u001b[0m \u001b[0me\u001b[0m\u001b[0;34m\u001b[0m\u001b[0m\n\u001b[0;32m-> 1083\u001b[0;31m     \u001b[0me\u001b[0m \u001b[0;34m=\u001b[0m \u001b[0mbottom_up\u001b[0m\u001b[0;34m(\u001b[0m\u001b[0me\u001b[0m\u001b[0;34m,\u001b[0m \u001b[0;32mlambda\u001b[0m \u001b[0mx\u001b[0m\u001b[0;34m:\u001b[0m \u001b[0m_futrig\u001b[0m\u001b[0;34m(\u001b[0m\u001b[0mx\u001b[0m\u001b[0;34m,\u001b[0m \u001b[0;34m**\u001b[0m\u001b[0mkwargs\u001b[0m\u001b[0;34m)\u001b[0m\u001b[0;34m)\u001b[0m\u001b[0;34m\u001b[0m\u001b[0m\n\u001b[0m\u001b[1;32m   1084\u001b[0m \u001b[0;34m\u001b[0m\u001b[0m\n\u001b[1;32m   1085\u001b[0m     \u001b[0;32mif\u001b[0m \u001b[0mkwargs\u001b[0m\u001b[0;34m.\u001b[0m\u001b[0mpop\u001b[0m\u001b[0;34m(\u001b[0m\u001b[0;34m'hyper'\u001b[0m\u001b[0;34m,\u001b[0m \u001b[0;32mTrue\u001b[0m\u001b[0;34m)\u001b[0m \u001b[0;32mand\u001b[0m \u001b[0me\u001b[0m\u001b[0;34m.\u001b[0m\u001b[0mhas\u001b[0m\u001b[0;34m(\u001b[0m\u001b[0mHyperbolicFunction\u001b[0m\u001b[0;34m)\u001b[0m\u001b[0;34m:\u001b[0m\u001b[0;34m\u001b[0m\u001b[0m\n",
      "\u001b[0;32m/home/kirix/anaconda3/envs/ipykernel_py3/lib/python3.6/site-packages/sympy/simplify/simplify.py\u001b[0m in \u001b[0;36mbottom_up\u001b[0;34m(rv, F, atoms, nonbasic)\u001b[0m\n\u001b[1;32m    925\u001b[0m         \u001b[0;32mif\u001b[0m \u001b[0mrv\u001b[0m\u001b[0;34m.\u001b[0m\u001b[0margs\u001b[0m\u001b[0;34m:\u001b[0m\u001b[0;34m\u001b[0m\u001b[0m\n\u001b[1;32m    926\u001b[0m             args = tuple([bottom_up(a, F, atoms, nonbasic)\n\u001b[0;32m--> 927\u001b[0;31m                 for a in rv.args])\n\u001b[0m\u001b[1;32m    928\u001b[0m             \u001b[0;32mif\u001b[0m \u001b[0margs\u001b[0m \u001b[0;34m!=\u001b[0m \u001b[0mrv\u001b[0m\u001b[0;34m.\u001b[0m\u001b[0margs\u001b[0m\u001b[0;34m:\u001b[0m\u001b[0;34m\u001b[0m\u001b[0m\n\u001b[1;32m    929\u001b[0m                 \u001b[0mrv\u001b[0m \u001b[0;34m=\u001b[0m \u001b[0mrv\u001b[0m\u001b[0;34m.\u001b[0m\u001b[0mfunc\u001b[0m\u001b[0;34m(\u001b[0m\u001b[0;34m*\u001b[0m\u001b[0margs\u001b[0m\u001b[0;34m)\u001b[0m\u001b[0;34m\u001b[0m\u001b[0m\n",
      "\u001b[0;32m/home/kirix/anaconda3/envs/ipykernel_py3/lib/python3.6/site-packages/sympy/simplify/simplify.py\u001b[0m in \u001b[0;36m<listcomp>\u001b[0;34m(.0)\u001b[0m\n\u001b[1;32m    925\u001b[0m         \u001b[0;32mif\u001b[0m \u001b[0mrv\u001b[0m\u001b[0;34m.\u001b[0m\u001b[0margs\u001b[0m\u001b[0;34m:\u001b[0m\u001b[0;34m\u001b[0m\u001b[0m\n\u001b[1;32m    926\u001b[0m             args = tuple([bottom_up(a, F, atoms, nonbasic)\n\u001b[0;32m--> 927\u001b[0;31m                 for a in rv.args])\n\u001b[0m\u001b[1;32m    928\u001b[0m             \u001b[0;32mif\u001b[0m \u001b[0margs\u001b[0m \u001b[0;34m!=\u001b[0m \u001b[0mrv\u001b[0m\u001b[0;34m.\u001b[0m\u001b[0margs\u001b[0m\u001b[0;34m:\u001b[0m\u001b[0;34m\u001b[0m\u001b[0m\n\u001b[1;32m    929\u001b[0m                 \u001b[0mrv\u001b[0m \u001b[0;34m=\u001b[0m \u001b[0mrv\u001b[0m\u001b[0;34m.\u001b[0m\u001b[0mfunc\u001b[0m\u001b[0;34m(\u001b[0m\u001b[0;34m*\u001b[0m\u001b[0margs\u001b[0m\u001b[0;34m)\u001b[0m\u001b[0;34m\u001b[0m\u001b[0m\n",
      "\u001b[0;32m/home/kirix/anaconda3/envs/ipykernel_py3/lib/python3.6/site-packages/sympy/simplify/simplify.py\u001b[0m in \u001b[0;36mbottom_up\u001b[0;34m(rv, F, atoms, nonbasic)\u001b[0m\n\u001b[1;32m    928\u001b[0m             \u001b[0;32mif\u001b[0m \u001b[0margs\u001b[0m \u001b[0;34m!=\u001b[0m \u001b[0mrv\u001b[0m\u001b[0;34m.\u001b[0m\u001b[0margs\u001b[0m\u001b[0;34m:\u001b[0m\u001b[0;34m\u001b[0m\u001b[0m\n\u001b[1;32m    929\u001b[0m                 \u001b[0mrv\u001b[0m \u001b[0;34m=\u001b[0m \u001b[0mrv\u001b[0m\u001b[0;34m.\u001b[0m\u001b[0mfunc\u001b[0m\u001b[0;34m(\u001b[0m\u001b[0;34m*\u001b[0m\u001b[0margs\u001b[0m\u001b[0;34m)\u001b[0m\u001b[0;34m\u001b[0m\u001b[0m\n\u001b[0;32m--> 930\u001b[0;31m             \u001b[0mrv\u001b[0m \u001b[0;34m=\u001b[0m \u001b[0mF\u001b[0m\u001b[0;34m(\u001b[0m\u001b[0mrv\u001b[0m\u001b[0;34m)\u001b[0m\u001b[0;34m\u001b[0m\u001b[0m\n\u001b[0m\u001b[1;32m    931\u001b[0m         \u001b[0;32melif\u001b[0m \u001b[0matoms\u001b[0m\u001b[0;34m:\u001b[0m\u001b[0;34m\u001b[0m\u001b[0m\n\u001b[1;32m    932\u001b[0m             \u001b[0mrv\u001b[0m \u001b[0;34m=\u001b[0m \u001b[0mF\u001b[0m\u001b[0;34m(\u001b[0m\u001b[0mrv\u001b[0m\u001b[0;34m)\u001b[0m\u001b[0;34m\u001b[0m\u001b[0m\n",
      "\u001b[0;32m/home/kirix/anaconda3/envs/ipykernel_py3/lib/python3.6/site-packages/sympy/simplify/trigsimp.py\u001b[0m in \u001b[0;36m<lambda>\u001b[0;34m(x)\u001b[0m\n\u001b[1;32m   1081\u001b[0m \u001b[0;34m\u001b[0m\u001b[0m\n\u001b[1;32m   1082\u001b[0m     \u001b[0mold\u001b[0m \u001b[0;34m=\u001b[0m \u001b[0me\u001b[0m\u001b[0;34m\u001b[0m\u001b[0m\n\u001b[0;32m-> 1083\u001b[0;31m     \u001b[0me\u001b[0m \u001b[0;34m=\u001b[0m \u001b[0mbottom_up\u001b[0m\u001b[0;34m(\u001b[0m\u001b[0me\u001b[0m\u001b[0;34m,\u001b[0m \u001b[0;32mlambda\u001b[0m \u001b[0mx\u001b[0m\u001b[0;34m:\u001b[0m \u001b[0m_futrig\u001b[0m\u001b[0;34m(\u001b[0m\u001b[0mx\u001b[0m\u001b[0;34m,\u001b[0m \u001b[0;34m**\u001b[0m\u001b[0mkwargs\u001b[0m\u001b[0;34m)\u001b[0m\u001b[0;34m)\u001b[0m\u001b[0;34m\u001b[0m\u001b[0m\n\u001b[0m\u001b[1;32m   1084\u001b[0m \u001b[0;34m\u001b[0m\u001b[0m\n\u001b[1;32m   1085\u001b[0m     \u001b[0;32mif\u001b[0m \u001b[0mkwargs\u001b[0m\u001b[0;34m.\u001b[0m\u001b[0mpop\u001b[0m\u001b[0;34m(\u001b[0m\u001b[0;34m'hyper'\u001b[0m\u001b[0;34m,\u001b[0m \u001b[0;32mTrue\u001b[0m\u001b[0;34m)\u001b[0m \u001b[0;32mand\u001b[0m \u001b[0me\u001b[0m\u001b[0;34m.\u001b[0m\u001b[0mhas\u001b[0m\u001b[0;34m(\u001b[0m\u001b[0mHyperbolicFunction\u001b[0m\u001b[0;34m)\u001b[0m\u001b[0;34m:\u001b[0m\u001b[0;34m\u001b[0m\u001b[0m\n",
      "\u001b[0;32m/home/kirix/anaconda3/envs/ipykernel_py3/lib/python3.6/site-packages/sympy/simplify/trigsimp.py\u001b[0m in \u001b[0;36m_futrig\u001b[0;34m(e, **kwargs)\u001b[0m\n\u001b[1;32m   1149\u001b[0m             factor_terms, TR12(x), trigs)],  # expand tan of sum\n\u001b[1;32m   1150\u001b[0m         )]\n\u001b[0;32m-> 1151\u001b[0;31m     \u001b[0me\u001b[0m \u001b[0;34m=\u001b[0m \u001b[0mgreedy\u001b[0m\u001b[0;34m(\u001b[0m\u001b[0mtree\u001b[0m\u001b[0;34m,\u001b[0m \u001b[0mobjective\u001b[0m\u001b[0;34m=\u001b[0m\u001b[0mLops\u001b[0m\u001b[0;34m)\u001b[0m\u001b[0;34m(\u001b[0m\u001b[0me\u001b[0m\u001b[0;34m)\u001b[0m\u001b[0;34m\u001b[0m\u001b[0m\n\u001b[0m\u001b[1;32m   1152\u001b[0m \u001b[0;34m\u001b[0m\u001b[0m\n\u001b[1;32m   1153\u001b[0m     \u001b[0;32mreturn\u001b[0m \u001b[0mcoeff\u001b[0m\u001b[0;34m*\u001b[0m\u001b[0me\u001b[0m\u001b[0;34m\u001b[0m\u001b[0m\n",
      "\u001b[0;32m/home/kirix/anaconda3/envs/ipykernel_py3/lib/python3.6/site-packages/sympy/strategies/core.py\u001b[0m in \u001b[0;36mminrule\u001b[0;34m(expr)\u001b[0m\n\u001b[1;32m    115\u001b[0m     \u001b[0mobjective\u001b[0m \u001b[0;34m=\u001b[0m \u001b[0mkwargs\u001b[0m\u001b[0;34m.\u001b[0m\u001b[0mget\u001b[0m\u001b[0;34m(\u001b[0m\u001b[0;34m'objective'\u001b[0m\u001b[0;34m,\u001b[0m \u001b[0midentity\u001b[0m\u001b[0;34m)\u001b[0m\u001b[0;34m\u001b[0m\u001b[0m\n\u001b[1;32m    116\u001b[0m     \u001b[0;32mdef\u001b[0m \u001b[0mminrule\u001b[0m\u001b[0;34m(\u001b[0m\u001b[0mexpr\u001b[0m\u001b[0;34m)\u001b[0m\u001b[0;34m:\u001b[0m\u001b[0;34m\u001b[0m\u001b[0m\n\u001b[0;32m--> 117\u001b[0;31m         \u001b[0;32mreturn\u001b[0m \u001b[0mmin\u001b[0m\u001b[0;34m(\u001b[0m\u001b[0;34m[\u001b[0m\u001b[0mrule\u001b[0m\u001b[0;34m(\u001b[0m\u001b[0mexpr\u001b[0m\u001b[0;34m)\u001b[0m \u001b[0;32mfor\u001b[0m \u001b[0mrule\u001b[0m \u001b[0;32min\u001b[0m \u001b[0mrules\u001b[0m\u001b[0;34m]\u001b[0m\u001b[0;34m,\u001b[0m \u001b[0mkey\u001b[0m\u001b[0;34m=\u001b[0m\u001b[0mobjective\u001b[0m\u001b[0;34m)\u001b[0m\u001b[0;34m\u001b[0m\u001b[0m\n\u001b[0m\u001b[1;32m    118\u001b[0m     \u001b[0;32mreturn\u001b[0m \u001b[0mminrule\u001b[0m\u001b[0;34m\u001b[0m\u001b[0m\n",
      "\u001b[0;32m/home/kirix/anaconda3/envs/ipykernel_py3/lib/python3.6/site-packages/sympy/strategies/core.py\u001b[0m in \u001b[0;36m<listcomp>\u001b[0;34m(.0)\u001b[0m\n\u001b[1;32m    115\u001b[0m     \u001b[0mobjective\u001b[0m \u001b[0;34m=\u001b[0m \u001b[0mkwargs\u001b[0m\u001b[0;34m.\u001b[0m\u001b[0mget\u001b[0m\u001b[0;34m(\u001b[0m\u001b[0;34m'objective'\u001b[0m\u001b[0;34m,\u001b[0m \u001b[0midentity\u001b[0m\u001b[0;34m)\u001b[0m\u001b[0;34m\u001b[0m\u001b[0m\n\u001b[1;32m    116\u001b[0m     \u001b[0;32mdef\u001b[0m \u001b[0mminrule\u001b[0m\u001b[0;34m(\u001b[0m\u001b[0mexpr\u001b[0m\u001b[0;34m)\u001b[0m\u001b[0;34m:\u001b[0m\u001b[0;34m\u001b[0m\u001b[0m\n\u001b[0;32m--> 117\u001b[0;31m         \u001b[0;32mreturn\u001b[0m \u001b[0mmin\u001b[0m\u001b[0;34m(\u001b[0m\u001b[0;34m[\u001b[0m\u001b[0mrule\u001b[0m\u001b[0;34m(\u001b[0m\u001b[0mexpr\u001b[0m\u001b[0;34m)\u001b[0m \u001b[0;32mfor\u001b[0m \u001b[0mrule\u001b[0m \u001b[0;32min\u001b[0m \u001b[0mrules\u001b[0m\u001b[0;34m]\u001b[0m\u001b[0;34m,\u001b[0m \u001b[0mkey\u001b[0m\u001b[0;34m=\u001b[0m\u001b[0mobjective\u001b[0m\u001b[0;34m)\u001b[0m\u001b[0;34m\u001b[0m\u001b[0m\n\u001b[0m\u001b[1;32m    118\u001b[0m     \u001b[0;32mreturn\u001b[0m \u001b[0mminrule\u001b[0m\u001b[0;34m\u001b[0m\u001b[0m\n",
      "\u001b[0;32m/home/kirix/anaconda3/envs/ipykernel_py3/lib/python3.6/site-packages/sympy/strategies/core.py\u001b[0m in \u001b[0;36mchain_rl\u001b[0;34m(expr)\u001b[0m\n\u001b[1;32m     42\u001b[0m     \u001b[0;32mdef\u001b[0m \u001b[0mchain_rl\u001b[0m\u001b[0;34m(\u001b[0m\u001b[0mexpr\u001b[0m\u001b[0;34m)\u001b[0m\u001b[0;34m:\u001b[0m\u001b[0;34m\u001b[0m\u001b[0m\n\u001b[1;32m     43\u001b[0m         \u001b[0;32mfor\u001b[0m \u001b[0mrule\u001b[0m \u001b[0;32min\u001b[0m \u001b[0mrules\u001b[0m\u001b[0;34m:\u001b[0m\u001b[0;34m\u001b[0m\u001b[0m\n\u001b[0;32m---> 44\u001b[0;31m             \u001b[0mexpr\u001b[0m \u001b[0;34m=\u001b[0m \u001b[0mrule\u001b[0m\u001b[0;34m(\u001b[0m\u001b[0mexpr\u001b[0m\u001b[0;34m)\u001b[0m\u001b[0;34m\u001b[0m\u001b[0m\n\u001b[0m\u001b[1;32m     45\u001b[0m         \u001b[0;32mreturn\u001b[0m \u001b[0mexpr\u001b[0m\u001b[0;34m\u001b[0m\u001b[0m\n\u001b[1;32m     46\u001b[0m     \u001b[0;32mreturn\u001b[0m \u001b[0mchain_rl\u001b[0m\u001b[0;34m\u001b[0m\u001b[0m\n",
      "\u001b[0;32m/home/kirix/anaconda3/envs/ipykernel_py3/lib/python3.6/site-packages/sympy/simplify/trigsimp.py\u001b[0m in \u001b[0;36m<lambda>\u001b[0;34m(x)\u001b[0m\n\u001b[1;32m   1126\u001b[0m         \u001b[0mTR10\u001b[0m\u001b[0;34m,\u001b[0m  \u001b[0;31m# sin-cos of sums -> sin-cos prod\u001b[0m\u001b[0;34m\u001b[0m\u001b[0m\n\u001b[1;32m   1127\u001b[0m         \u001b[0mTR11\u001b[0m\u001b[0;34m,\u001b[0m \u001b[0mTR6\u001b[0m\u001b[0;34m,\u001b[0m \u001b[0;31m# reduce double angles and rewrite cos pows\u001b[0m\u001b[0;34m\u001b[0m\u001b[0m\n\u001b[0;32m-> 1128\u001b[0;31m         \u001b[0;32mlambda\u001b[0m \u001b[0mx\u001b[0m\u001b[0;34m:\u001b[0m \u001b[0m_eapply\u001b[0m\u001b[0;34m(\u001b[0m\u001b[0mfactor\u001b[0m\u001b[0;34m,\u001b[0m \u001b[0mx\u001b[0m\u001b[0;34m,\u001b[0m \u001b[0mtrigs\u001b[0m\u001b[0;34m)\u001b[0m\u001b[0;34m,\u001b[0m\u001b[0;34m\u001b[0m\u001b[0m\n\u001b[0m\u001b[1;32m   1129\u001b[0m         \u001b[0mTR14\u001b[0m\u001b[0;34m,\u001b[0m  \u001b[0;31m# factored powers of identities\u001b[0m\u001b[0;34m\u001b[0m\u001b[0m\n\u001b[1;32m   1130\u001b[0m         \u001b[0;34m[\u001b[0m\u001b[0midentity\u001b[0m\u001b[0;34m,\u001b[0m \u001b[0;32mlambda\u001b[0m \u001b[0mx\u001b[0m\u001b[0;34m:\u001b[0m \u001b[0m_eapply\u001b[0m\u001b[0;34m(\u001b[0m\u001b[0m_mexpand\u001b[0m\u001b[0;34m,\u001b[0m \u001b[0mx\u001b[0m\u001b[0;34m,\u001b[0m \u001b[0mtrigs\u001b[0m\u001b[0;34m)\u001b[0m\u001b[0;34m]\u001b[0m\u001b[0;34m,\u001b[0m\u001b[0;34m\u001b[0m\u001b[0m\n",
      "\u001b[0;32m/home/kirix/anaconda3/envs/ipykernel_py3/lib/python3.6/site-packages/sympy/simplify/trigsimp.py\u001b[0m in \u001b[0;36m_eapply\u001b[0;34m(func, e, cond)\u001b[0m\n\u001b[1;32m   1168\u001b[0m         \u001b[0;32mreturn\u001b[0m \u001b[0me\u001b[0m\u001b[0;34m\u001b[0m\u001b[0m\n\u001b[1;32m   1169\u001b[0m     \u001b[0;32mif\u001b[0m \u001b[0m_is_Expr\u001b[0m\u001b[0;34m(\u001b[0m\u001b[0me\u001b[0m\u001b[0;34m)\u001b[0m \u001b[0;32mor\u001b[0m \u001b[0;32mnot\u001b[0m \u001b[0me\u001b[0m\u001b[0;34m.\u001b[0m\u001b[0margs\u001b[0m\u001b[0;34m:\u001b[0m\u001b[0;34m\u001b[0m\u001b[0m\n\u001b[0;32m-> 1170\u001b[0;31m         \u001b[0;32mreturn\u001b[0m \u001b[0mfunc\u001b[0m\u001b[0;34m(\u001b[0m\u001b[0me\u001b[0m\u001b[0;34m)\u001b[0m\u001b[0;34m\u001b[0m\u001b[0m\n\u001b[0m\u001b[1;32m   1171\u001b[0m     return e.func(*[\n\u001b[1;32m   1172\u001b[0m         \u001b[0m_eapply\u001b[0m\u001b[0;34m(\u001b[0m\u001b[0mfunc\u001b[0m\u001b[0;34m,\u001b[0m \u001b[0mei\u001b[0m\u001b[0;34m)\u001b[0m \u001b[0;32mif\u001b[0m \u001b[0;34m(\u001b[0m\u001b[0mcond\u001b[0m \u001b[0;32mis\u001b[0m \u001b[0;32mNone\u001b[0m \u001b[0;32mor\u001b[0m \u001b[0mcond\u001b[0m\u001b[0;34m(\u001b[0m\u001b[0mei\u001b[0m\u001b[0;34m)\u001b[0m\u001b[0;34m)\u001b[0m \u001b[0;32melse\u001b[0m \u001b[0mei\u001b[0m\u001b[0;34m\u001b[0m\u001b[0m\n",
      "\u001b[0;32m/home/kirix/anaconda3/envs/ipykernel_py3/lib/python3.6/site-packages/sympy/polys/polytools.py\u001b[0m in \u001b[0;36mfactor\u001b[0;34m(f, *gens, **args)\u001b[0m\n\u001b[1;32m   6061\u001b[0m \u001b[0;34m\u001b[0m\u001b[0m\n\u001b[1;32m   6062\u001b[0m     \u001b[0;32mtry\u001b[0m\u001b[0;34m:\u001b[0m\u001b[0;34m\u001b[0m\u001b[0m\n\u001b[0;32m-> 6063\u001b[0;31m         \u001b[0;32mreturn\u001b[0m \u001b[0m_generic_factor\u001b[0m\u001b[0;34m(\u001b[0m\u001b[0mf\u001b[0m\u001b[0;34m,\u001b[0m \u001b[0mgens\u001b[0m\u001b[0;34m,\u001b[0m \u001b[0margs\u001b[0m\u001b[0;34m,\u001b[0m \u001b[0mmethod\u001b[0m\u001b[0;34m=\u001b[0m\u001b[0;34m'factor'\u001b[0m\u001b[0;34m)\u001b[0m\u001b[0;34m\u001b[0m\u001b[0m\n\u001b[0m\u001b[1;32m   6064\u001b[0m     \u001b[0;32mexcept\u001b[0m \u001b[0mPolynomialError\u001b[0m \u001b[0;32mas\u001b[0m \u001b[0mmsg\u001b[0m\u001b[0;34m:\u001b[0m\u001b[0;34m\u001b[0m\u001b[0m\n\u001b[1;32m   6065\u001b[0m         \u001b[0;32mif\u001b[0m \u001b[0;32mnot\u001b[0m \u001b[0mf\u001b[0m\u001b[0;34m.\u001b[0m\u001b[0mis_commutative\u001b[0m\u001b[0;34m:\u001b[0m\u001b[0;34m\u001b[0m\u001b[0m\n",
      "\u001b[0;32m/home/kirix/anaconda3/envs/ipykernel_py3/lib/python3.6/site-packages/sympy/polys/polytools.py\u001b[0m in \u001b[0;36m_generic_factor\u001b[0;34m(expr, gens, args, method)\u001b[0m\n\u001b[1;32m   5753\u001b[0m     \u001b[0moptions\u001b[0m\u001b[0;34m.\u001b[0m\u001b[0mallowed_flags\u001b[0m\u001b[0;34m(\u001b[0m\u001b[0margs\u001b[0m\u001b[0;34m,\u001b[0m \u001b[0;34m[\u001b[0m\u001b[0;34m]\u001b[0m\u001b[0;34m)\u001b[0m\u001b[0;34m\u001b[0m\u001b[0m\n\u001b[1;32m   5754\u001b[0m     \u001b[0mopt\u001b[0m \u001b[0;34m=\u001b[0m \u001b[0moptions\u001b[0m\u001b[0;34m.\u001b[0m\u001b[0mbuild_options\u001b[0m\u001b[0;34m(\u001b[0m\u001b[0mgens\u001b[0m\u001b[0;34m,\u001b[0m \u001b[0margs\u001b[0m\u001b[0;34m)\u001b[0m\u001b[0;34m\u001b[0m\u001b[0m\n\u001b[0;32m-> 5755\u001b[0;31m     \u001b[0;32mreturn\u001b[0m \u001b[0m_symbolic_factor\u001b[0m\u001b[0;34m(\u001b[0m\u001b[0msympify\u001b[0m\u001b[0;34m(\u001b[0m\u001b[0mexpr\u001b[0m\u001b[0;34m)\u001b[0m\u001b[0;34m,\u001b[0m \u001b[0mopt\u001b[0m\u001b[0;34m,\u001b[0m \u001b[0mmethod\u001b[0m\u001b[0;34m)\u001b[0m\u001b[0;34m\u001b[0m\u001b[0m\n\u001b[0m\u001b[1;32m   5756\u001b[0m \u001b[0;34m\u001b[0m\u001b[0m\n\u001b[1;32m   5757\u001b[0m \u001b[0;34m\u001b[0m\u001b[0m\n",
      "\u001b[0;32m/home/kirix/anaconda3/envs/ipykernel_py3/lib/python3.6/site-packages/sympy/polys/polytools.py\u001b[0m in \u001b[0;36m_symbolic_factor\u001b[0;34m(expr, opt, method)\u001b[0m\n\u001b[1;32m   5698\u001b[0m         \u001b[0;32mif\u001b[0m \u001b[0mhasattr\u001b[0m\u001b[0;34m(\u001b[0m\u001b[0mexpr\u001b[0m\u001b[0;34m,\u001b[0m\u001b[0;34m'_eval_factor'\u001b[0m\u001b[0;34m)\u001b[0m\u001b[0;34m:\u001b[0m\u001b[0;34m\u001b[0m\u001b[0m\n\u001b[1;32m   5699\u001b[0m             \u001b[0;32mreturn\u001b[0m \u001b[0mexpr\u001b[0m\u001b[0;34m.\u001b[0m\u001b[0m_eval_factor\u001b[0m\u001b[0;34m(\u001b[0m\u001b[0;34m)\u001b[0m\u001b[0;34m\u001b[0m\u001b[0m\n\u001b[0;32m-> 5700\u001b[0;31m         \u001b[0mcoeff\u001b[0m\u001b[0;34m,\u001b[0m \u001b[0mfactors\u001b[0m \u001b[0;34m=\u001b[0m \u001b[0m_symbolic_factor_list\u001b[0m\u001b[0;34m(\u001b[0m\u001b[0mtogether\u001b[0m\u001b[0;34m(\u001b[0m\u001b[0mexpr\u001b[0m\u001b[0;34m)\u001b[0m\u001b[0;34m,\u001b[0m \u001b[0mopt\u001b[0m\u001b[0;34m,\u001b[0m \u001b[0mmethod\u001b[0m\u001b[0;34m)\u001b[0m\u001b[0;34m\u001b[0m\u001b[0m\n\u001b[0m\u001b[1;32m   5701\u001b[0m         \u001b[0;32mreturn\u001b[0m \u001b[0m_keep_coeff\u001b[0m\u001b[0;34m(\u001b[0m\u001b[0mcoeff\u001b[0m\u001b[0;34m,\u001b[0m \u001b[0m_factors_product\u001b[0m\u001b[0;34m(\u001b[0m\u001b[0mfactors\u001b[0m\u001b[0;34m)\u001b[0m\u001b[0;34m)\u001b[0m\u001b[0;34m\u001b[0m\u001b[0m\n\u001b[1;32m   5702\u001b[0m     \u001b[0;32melif\u001b[0m \u001b[0mhasattr\u001b[0m\u001b[0;34m(\u001b[0m\u001b[0mexpr\u001b[0m\u001b[0;34m,\u001b[0m \u001b[0;34m'args'\u001b[0m\u001b[0;34m)\u001b[0m\u001b[0;34m:\u001b[0m\u001b[0;34m\u001b[0m\u001b[0m\n",
      "\u001b[0;32m/home/kirix/anaconda3/envs/ipykernel_py3/lib/python3.6/site-packages/sympy/polys/rationaltools.py\u001b[0m in \u001b[0;36mtogether\u001b[0;34m(expr, deep)\u001b[0m\n\u001b[1;32m     83\u001b[0m         \u001b[0;32mreturn\u001b[0m \u001b[0mexpr\u001b[0m\u001b[0;34m\u001b[0m\u001b[0m\n\u001b[1;32m     84\u001b[0m \u001b[0;34m\u001b[0m\u001b[0m\n\u001b[0;32m---> 85\u001b[0;31m     \u001b[0;32mreturn\u001b[0m \u001b[0m_together\u001b[0m\u001b[0;34m(\u001b[0m\u001b[0msympify\u001b[0m\u001b[0;34m(\u001b[0m\u001b[0mexpr\u001b[0m\u001b[0;34m)\u001b[0m\u001b[0;34m)\u001b[0m\u001b[0;34m\u001b[0m\u001b[0m\n\u001b[0m",
      "\u001b[0;32m/home/kirix/anaconda3/envs/ipykernel_py3/lib/python3.6/site-packages/sympy/polys/rationaltools.py\u001b[0m in \u001b[0;36m_together\u001b[0;34m(expr)\u001b[0m\n\u001b[1;32m     66\u001b[0m                 \u001b[0;32mreturn\u001b[0m \u001b[0mexpr\u001b[0m\u001b[0;34m\u001b[0m\u001b[0m\n\u001b[1;32m     67\u001b[0m             \u001b[0;32melif\u001b[0m \u001b[0mexpr\u001b[0m\u001b[0;34m.\u001b[0m\u001b[0mis_Add\u001b[0m\u001b[0;34m:\u001b[0m\u001b[0;34m\u001b[0m\u001b[0m\n\u001b[0;32m---> 68\u001b[0;31m                 \u001b[0;32mreturn\u001b[0m \u001b[0mgcd_terms\u001b[0m\u001b[0;34m(\u001b[0m\u001b[0mlist\u001b[0m\u001b[0;34m(\u001b[0m\u001b[0mmap\u001b[0m\u001b[0;34m(\u001b[0m\u001b[0m_together\u001b[0m\u001b[0;34m,\u001b[0m \u001b[0mAdd\u001b[0m\u001b[0;34m.\u001b[0m\u001b[0mmake_args\u001b[0m\u001b[0;34m(\u001b[0m\u001b[0mexpr\u001b[0m\u001b[0;34m)\u001b[0m\u001b[0;34m)\u001b[0m\u001b[0;34m)\u001b[0m\u001b[0;34m)\u001b[0m\u001b[0;34m\u001b[0m\u001b[0m\n\u001b[0m\u001b[1;32m     69\u001b[0m             \u001b[0;32melif\u001b[0m \u001b[0mexpr\u001b[0m\u001b[0;34m.\u001b[0m\u001b[0mis_Pow\u001b[0m\u001b[0;34m:\u001b[0m\u001b[0;34m\u001b[0m\u001b[0m\n\u001b[1;32m     70\u001b[0m                 \u001b[0mbase\u001b[0m \u001b[0;34m=\u001b[0m \u001b[0m_together\u001b[0m\u001b[0;34m(\u001b[0m\u001b[0mexpr\u001b[0m\u001b[0;34m.\u001b[0m\u001b[0mbase\u001b[0m\u001b[0;34m)\u001b[0m\u001b[0;34m\u001b[0m\u001b[0m\n",
      "\u001b[0;32m/home/kirix/anaconda3/envs/ipykernel_py3/lib/python3.6/site-packages/sympy/polys/rationaltools.py\u001b[0m in \u001b[0;36m_together\u001b[0;34m(expr)\u001b[0m\n\u001b[1;32m     77\u001b[0m                 \u001b[0;32mreturn\u001b[0m \u001b[0mexpr\u001b[0m\u001b[0;34m.\u001b[0m\u001b[0m__class__\u001b[0m\u001b[0;34m(\u001b[0m\u001b[0mbase\u001b[0m\u001b[0;34m,\u001b[0m \u001b[0mexp\u001b[0m\u001b[0;34m)\u001b[0m\u001b[0;34m\u001b[0m\u001b[0m\n\u001b[1;32m     78\u001b[0m             \u001b[0;32melse\u001b[0m\u001b[0;34m:\u001b[0m\u001b[0;34m\u001b[0m\u001b[0m\n\u001b[0;32m---> 79\u001b[0;31m                 \u001b[0;32mreturn\u001b[0m \u001b[0mexpr\u001b[0m\u001b[0;34m.\u001b[0m\u001b[0m__class__\u001b[0m\u001b[0;34m(\u001b[0m\u001b[0;34m*\u001b[0m\u001b[0;34m[\u001b[0m \u001b[0m_together\u001b[0m\u001b[0;34m(\u001b[0m\u001b[0marg\u001b[0m\u001b[0;34m)\u001b[0m \u001b[0;32mfor\u001b[0m \u001b[0marg\u001b[0m \u001b[0;32min\u001b[0m \u001b[0mexpr\u001b[0m\u001b[0;34m.\u001b[0m\u001b[0margs\u001b[0m \u001b[0;34m]\u001b[0m\u001b[0;34m)\u001b[0m\u001b[0;34m\u001b[0m\u001b[0m\n\u001b[0m\u001b[1;32m     80\u001b[0m         \u001b[0;32melif\u001b[0m \u001b[0miterable\u001b[0m\u001b[0;34m(\u001b[0m\u001b[0mexpr\u001b[0m\u001b[0;34m)\u001b[0m\u001b[0;34m:\u001b[0m\u001b[0;34m\u001b[0m\u001b[0m\n\u001b[1;32m     81\u001b[0m             \u001b[0;32mreturn\u001b[0m \u001b[0mexpr\u001b[0m\u001b[0;34m.\u001b[0m\u001b[0m__class__\u001b[0m\u001b[0;34m(\u001b[0m\u001b[0;34m[\u001b[0m \u001b[0m_together\u001b[0m\u001b[0;34m(\u001b[0m\u001b[0mex\u001b[0m\u001b[0;34m)\u001b[0m \u001b[0;32mfor\u001b[0m \u001b[0mex\u001b[0m \u001b[0;32min\u001b[0m \u001b[0mexpr\u001b[0m \u001b[0;34m]\u001b[0m\u001b[0;34m)\u001b[0m\u001b[0;34m\u001b[0m\u001b[0m\n",
      "\u001b[0;32m/home/kirix/anaconda3/envs/ipykernel_py3/lib/python3.6/site-packages/sympy/core/cache.py\u001b[0m in \u001b[0;36mwrapper\u001b[0;34m(*args, **kwargs)\u001b[0m\n\u001b[1;32m     91\u001b[0m             \u001b[0;32mdef\u001b[0m \u001b[0mwrapper\u001b[0m\u001b[0;34m(\u001b[0m\u001b[0;34m*\u001b[0m\u001b[0margs\u001b[0m\u001b[0;34m,\u001b[0m \u001b[0;34m**\u001b[0m\u001b[0mkwargs\u001b[0m\u001b[0;34m)\u001b[0m\u001b[0;34m:\u001b[0m\u001b[0;34m\u001b[0m\u001b[0m\n\u001b[1;32m     92\u001b[0m                 \u001b[0;32mtry\u001b[0m\u001b[0;34m:\u001b[0m\u001b[0;34m\u001b[0m\u001b[0m\n\u001b[0;32m---> 93\u001b[0;31m                     \u001b[0mretval\u001b[0m \u001b[0;34m=\u001b[0m \u001b[0mcfunc\u001b[0m\u001b[0;34m(\u001b[0m\u001b[0;34m*\u001b[0m\u001b[0margs\u001b[0m\u001b[0;34m,\u001b[0m \u001b[0;34m**\u001b[0m\u001b[0mkwargs\u001b[0m\u001b[0;34m)\u001b[0m\u001b[0;34m\u001b[0m\u001b[0m\n\u001b[0m\u001b[1;32m     94\u001b[0m                 \u001b[0;32mexcept\u001b[0m \u001b[0mTypeError\u001b[0m\u001b[0;34m:\u001b[0m\u001b[0;34m\u001b[0m\u001b[0m\n\u001b[1;32m     95\u001b[0m                     \u001b[0mretval\u001b[0m \u001b[0;34m=\u001b[0m \u001b[0mfunc\u001b[0m\u001b[0;34m(\u001b[0m\u001b[0;34m*\u001b[0m\u001b[0margs\u001b[0m\u001b[0;34m,\u001b[0m \u001b[0;34m**\u001b[0m\u001b[0mkwargs\u001b[0m\u001b[0;34m)\u001b[0m\u001b[0;34m\u001b[0m\u001b[0m\n",
      "\u001b[0;32m/home/kirix/anaconda3/envs/ipykernel_py3/lib/python3.6/site-packages/sympy/core/operations.py\u001b[0m in \u001b[0;36m__new__\u001b[0;34m(cls, *args, **options)\u001b[0m\n\u001b[1;32m     28\u001b[0m     \u001b[0;32mdef\u001b[0m \u001b[0m__new__\u001b[0m\u001b[0;34m(\u001b[0m\u001b[0mcls\u001b[0m\u001b[0;34m,\u001b[0m \u001b[0;34m*\u001b[0m\u001b[0margs\u001b[0m\u001b[0;34m,\u001b[0m \u001b[0;34m**\u001b[0m\u001b[0moptions\u001b[0m\u001b[0;34m)\u001b[0m\u001b[0;34m:\u001b[0m\u001b[0;34m\u001b[0m\u001b[0m\n\u001b[1;32m     29\u001b[0m         \u001b[0;32mfrom\u001b[0m \u001b[0msympy\u001b[0m \u001b[0;32mimport\u001b[0m \u001b[0mOrder\u001b[0m\u001b[0;34m\u001b[0m\u001b[0m\n\u001b[0;32m---> 30\u001b[0;31m         \u001b[0margs\u001b[0m \u001b[0;34m=\u001b[0m \u001b[0mlist\u001b[0m\u001b[0;34m(\u001b[0m\u001b[0mmap\u001b[0m\u001b[0;34m(\u001b[0m\u001b[0m_sympify\u001b[0m\u001b[0;34m,\u001b[0m \u001b[0margs\u001b[0m\u001b[0;34m)\u001b[0m\u001b[0;34m)\u001b[0m\u001b[0;34m\u001b[0m\u001b[0m\n\u001b[0m\u001b[1;32m     31\u001b[0m         \u001b[0margs\u001b[0m \u001b[0;34m=\u001b[0m \u001b[0;34m[\u001b[0m\u001b[0ma\u001b[0m \u001b[0;32mfor\u001b[0m \u001b[0ma\u001b[0m \u001b[0;32min\u001b[0m \u001b[0margs\u001b[0m \u001b[0;32mif\u001b[0m \u001b[0ma\u001b[0m \u001b[0;32mis\u001b[0m \u001b[0;32mnot\u001b[0m \u001b[0mcls\u001b[0m\u001b[0;34m.\u001b[0m\u001b[0midentity\u001b[0m\u001b[0;34m]\u001b[0m\u001b[0;34m\u001b[0m\u001b[0m\n\u001b[1;32m     32\u001b[0m \u001b[0;34m\u001b[0m\u001b[0m\n",
      "\u001b[0;32m/home/kirix/anaconda3/envs/ipykernel_py3/lib/python3.6/site-packages/sympy/core/sympify.py\u001b[0m in \u001b[0;36m_sympify\u001b[0;34m(a)\u001b[0m\n\u001b[1;32m    353\u001b[0m \u001b[0;34m\u001b[0m\u001b[0m\n\u001b[1;32m    354\u001b[0m     \"\"\"\n\u001b[0;32m--> 355\u001b[0;31m     \u001b[0;32mreturn\u001b[0m \u001b[0msympify\u001b[0m\u001b[0;34m(\u001b[0m\u001b[0ma\u001b[0m\u001b[0;34m,\u001b[0m \u001b[0mstrict\u001b[0m\u001b[0;34m=\u001b[0m\u001b[0;32mTrue\u001b[0m\u001b[0;34m)\u001b[0m\u001b[0;34m\u001b[0m\u001b[0m\n\u001b[0m\u001b[1;32m    356\u001b[0m \u001b[0;34m\u001b[0m\u001b[0m\n\u001b[1;32m    357\u001b[0m \u001b[0;34m\u001b[0m\u001b[0m\n",
      "\u001b[0;32m/home/kirix/anaconda3/envs/ipykernel_py3/lib/python3.6/site-packages/sympy/core/sympify.py\u001b[0m in \u001b[0;36msympify\u001b[0;34m(a, locals, convert_xor, strict, rational, evaluate)\u001b[0m\n\u001b[1;32m    234\u001b[0m         \u001b[0mevaluate\u001b[0m \u001b[0;34m=\u001b[0m \u001b[0mglobal_evaluate\u001b[0m\u001b[0;34m[\u001b[0m\u001b[0;36m0\u001b[0m\u001b[0;34m]\u001b[0m\u001b[0;34m\u001b[0m\u001b[0m\n\u001b[1;32m    235\u001b[0m     \u001b[0;32mtry\u001b[0m\u001b[0;34m:\u001b[0m\u001b[0;34m\u001b[0m\u001b[0m\n\u001b[0;32m--> 236\u001b[0;31m         \u001b[0;32mif\u001b[0m \u001b[0ma\u001b[0m \u001b[0;32min\u001b[0m \u001b[0msympy_classes\u001b[0m\u001b[0;34m:\u001b[0m\u001b[0;34m\u001b[0m\u001b[0m\n\u001b[0m\u001b[1;32m    237\u001b[0m             \u001b[0;32mreturn\u001b[0m \u001b[0ma\u001b[0m\u001b[0;34m\u001b[0m\u001b[0m\n\u001b[1;32m    238\u001b[0m     \u001b[0;32mexcept\u001b[0m \u001b[0mTypeError\u001b[0m\u001b[0;34m:\u001b[0m \u001b[0;31m# Type of a is unhashable\u001b[0m\u001b[0;34m\u001b[0m\u001b[0m\n",
      "\u001b[0;32m/home/kirix/anaconda3/envs/ipykernel_py3/lib/python3.6/site-packages/sympy/core/basic.py\u001b[0m in \u001b[0;36m__hash__\u001b[0;34m(self)\u001b[0m\n\u001b[1;32m    100\u001b[0m             \u001b[0msetattr\u001b[0m\u001b[0;34m(\u001b[0m\u001b[0mself\u001b[0m\u001b[0;34m,\u001b[0m \u001b[0mk\u001b[0m\u001b[0;34m,\u001b[0m \u001b[0mv\u001b[0m\u001b[0;34m)\u001b[0m\u001b[0;34m\u001b[0m\u001b[0m\n\u001b[1;32m    101\u001b[0m \u001b[0;34m\u001b[0m\u001b[0m\n\u001b[0;32m--> 102\u001b[0;31m     \u001b[0;32mdef\u001b[0m \u001b[0m__hash__\u001b[0m\u001b[0;34m(\u001b[0m\u001b[0mself\u001b[0m\u001b[0;34m)\u001b[0m\u001b[0;34m:\u001b[0m\u001b[0;34m\u001b[0m\u001b[0m\n\u001b[0m\u001b[1;32m    103\u001b[0m         \u001b[0;31m# hash cannot be cached using cache_it because infinite recurrence\u001b[0m\u001b[0;34m\u001b[0m\u001b[0;34m\u001b[0m\u001b[0m\n\u001b[1;32m    104\u001b[0m         \u001b[0;31m# occurs as hash is needed for setting cache dictionary keys\u001b[0m\u001b[0;34m\u001b[0m\u001b[0;34m\u001b[0m\u001b[0m\n",
      "\u001b[0;31mKeyboardInterrupt\u001b[0m: "
     ]
    }
   ],
   "source": [
    "import datetime as dt\n",
    "tm = time.time\n",
    "startTmatrix = tm()\n",
    "print('computing start! ' + str(dt.datetime.fromtimestamp(tm())))\n",
    "for j in range(0, n):\n",
    "    startTrow = tm()\n",
    "    print('\\trow_' + str(j) + ' start!')\n",
    "    # opL = ''\n",
    "    for i in range(4, n):\n",
    "        print('\\t\\telement_' + str(i) + ' start!')\n",
    "        fileName = 'xi/xi_' + str(j) + str(i)\n",
    "        fileName_tex = 'xi_tex/xi_' + str(j) + str(i)\n",
    "        for k in range(7, nL):\n",
    "            startTelement = tm()\n",
    "            print('\\t\\t\\tsubElement_' + str(k) + ' start at ' + str(dt.datetime.fromtimestamp(tm())))\n",
    "            file = open(fileName, 'a') \n",
    "            file_tex = open(fileName_tex, 'a') \n",
    "            \n",
    "            opL_sym = operatorL(L[i][k], j)\n",
    "            print(len(str(opL_sym)))\n",
    "            opL_sym = simplify(opL_sym)\n",
    "            print(len(str(opL_sym)))\n",
    "            \n",
    "            file_tex.write(str(opL_sym))\n",
    "            file_tex.close()\n",
    "\n",
    "            varName = 'opL_' + str(i) + str(k)\n",
    "            opL_raw = o.octave_code(opL_sym, assign_to=varName, human=True, inline=True)\n",
    "            opL_oct = octaveButyfiler(opL_raw)\n",
    "            opL = str(opL_oct) + '\\n\\n'\n",
    "            file.write(opL)\n",
    "            file.close()\n",
    "            print('\\t\\t\\tsubElement_' + str(k) + ': ' + str(tm() - startTelement) + ' end at ' + str(dt.datetime.fromtimestamp(tm())))\n",
    "        print('\\t\\telement_' + str(i) + ': ' + str(tm() - startTrow))\n",
    "    print('\\trow_' + str(j) + ': ' + str(tm() - startTrow))\n",
    "print('total time on compute matrix \\XI: ' + str(tm() - startTmatrix))\n",
    "print(str(dt.datetime.fromtimestamp(tm())))"
   ]
  },
  {
   "cell_type": "code",
   "execution_count": null,
   "metadata": {
    "collapsed": false
   },
   "outputs": [],
   "source": [
    "# compute TAU\n",
    "# tau5 = get_tau(5)\n",
    "# s = o.octave_code(tau5, assign_to='tau5', human=True, inline=True)\n",
    "# tau5 = octaveButyfiler(s)\n",
    "# tau = get_tau(3)\n",
    "# s = o.octave_code(tau, assign_to='tau3', human=True, inline=True)\n",
    "# tau3 = octaveButyfiler(s)"
   ]
  },
  {
   "cell_type": "code",
   "execution_count": 16,
   "metadata": {
    "collapsed": false
   },
   "outputs": [
    {
     "data": {
      "text/latex": [
       "$$142557$$"
      ],
      "text/plain": [
       "142557"
      ]
     },
     "execution_count": 16,
     "metadata": {},
     "output_type": "execute_result"
    }
   ],
   "source": [
    "opL00 = operatorL(L[0][0], 0)\n",
    "len(str(opL00))"
   ]
  },
  {
   "cell_type": "code",
   "execution_count": 21,
   "metadata": {
    "collapsed": false
   },
   "outputs": [
    {
     "data": {
      "text/latex": [
       "$$29753$$"
      ],
      "text/plain": [
       "29753"
      ]
     },
     "execution_count": 21,
     "metadata": {},
     "output_type": "execute_result"
    }
   ],
   "source": [
    "opL00 = simplify(opL00)\n",
    "len(str(opL00))"
   ]
  },
  {
   "cell_type": "code",
   "execution_count": 27,
   "metadata": {
    "collapsed": false
   },
   "outputs": [
    {
     "data": {
      "text/latex": [
       "$$29753$$"
      ],
      "text/plain": [
       "29753"
      ]
     },
     "execution_count": 27,
     "metadata": {},
     "output_type": "execute_result"
    }
   ],
   "source": [
    "ooo = len(str(opL00))\n",
    "ooo"
   ]
  },
  {
   "cell_type": "code",
   "execution_count": null,
   "metadata": {
    "collapsed": false
   },
   "outputs": [],
   "source": [
    "\n",
    "# # j=1 row of xi\n",
    "# j=1 #q_1\n",
    "# # element 1\n",
    "# i, k = 1, 1\n",
    "# oL1 = [0 for p in range(0, nL)]\n",
    "# for k in range(0, nL):\n",
    "#     oL1[k] = operatorL(L[i-1][k], j-1)\n",
    "\n",
    "# f = open('xi', 'w')\n",
    "# xi = \"\"\n",
    "# i = 1\n",
    "# # xi+NumElementInRow+k\n",
    "# for k in range(0, nL):\n",
    "#     print(\"start_\" + str(k+1))\n",
    "#     xii = simplify(oL1[k])\n",
    "#     s = o.octave_code(xii, assign_to='xi'+str(i)+'_'+str(k+1), human=True, inline=True)\n",
    "#     xii = octaveButyfiler(s)\n",
    "#     xi += str(xii) + '\\n'\n",
    "#     print(\"end_\" + str(k+1) + \" from 1 to 10\")\n",
    "# f.write(xi11)"
   ]
  },
  {
   "cell_type": "code",
   "execution_count": null,
   "metadata": {
    "collapsed": false,
    "scrolled": false
   },
   "outputs": [],
   "source": []
  }
 ],
 "metadata": {
  "kernelspec": {
   "display_name": "Python 3",
   "language": "python",
   "name": "python3"
  },
  "language_info": {
   "codemirror_mode": {
    "name": "ipython",
    "version": 3
   },
   "file_extension": ".py",
   "mimetype": "text/x-python",
   "name": "python",
   "nbconvert_exporter": "python",
   "pygments_lexer": "ipython3",
   "version": "3.6.1"
  }
 },
 "nbformat": 4,
 "nbformat_minor": 2
}
