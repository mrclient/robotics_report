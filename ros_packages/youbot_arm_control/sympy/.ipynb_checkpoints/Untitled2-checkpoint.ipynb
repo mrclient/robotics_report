{
 "cells": [
  {
   "cell_type": "code",
   "execution_count": 2,
   "metadata": {
    "collapsed": true
   },
   "outputs": [],
   "source": [
    "from __future__ import division\n",
    "from IPython.display import display\n",
    "\n",
    "from sympy import Matrix\n",
    "from sympy.interactive import printing\n",
    "\n",
    "printing.init_printing(use_latex='mathjax')\n",
    "\n",
    "import sympy as sym\n",
    "from sympy import *\n",
    "\n"
   ]
  },
  {
   "cell_type": "code",
   "execution_count": 49,
   "metadata": {
    "collapsed": true
   },
   "outputs": [],
   "source": [
    "m11, m12, m21, m22 = symbols('m11 m12 m21 m22')\n",
    "a,b,c,d = symbols('a b c d')\n",
    "l1, l2, l3, l4 = symbols('l1, l2, l3, l4')"
   ]
  },
  {
   "cell_type": "code",
   "execution_count": 161,
   "metadata": {
    "collapsed": false
   },
   "outputs": [],
   "source": [
    "M = Matrix([[m11, m12],[m21, m22]])\n",
    "F = Matrix([[a,b],[c,d]])\n",
    "L = Matrix([[l1,l2],[l3,l4]])\n",
    "\n",
    "F = Matrix([[0,1],[-9,-4.242]])\n",
    "L = Matrix([[-2.121,2.1216406],[-2.1216406, -2.121]])\n",
    "L = Matrix([[1,1],[-2.121, 2.121]])\n",
    "L = Matrix([[-2.121,2.121],[-2.121, -2.121]])\n",
    "\n",
    "\n",
    "# F = Matrix([[0,1],[-10,-7]])\n",
    "# L = Matrix([[-2,0],[0, -5]])\n"
   ]
  },
  {
   "cell_type": "code",
   "execution_count": 163,
   "metadata": {
    "collapsed": false
   },
   "outputs": [],
   "source": [
    "O = simplify(M*L - F*M)"
   ]
  },
  {
   "cell_type": "code",
   "execution_count": 165,
   "metadata": {
    "collapsed": false,
    "scrolled": true
   },
   "outputs": [],
   "source": [
    "e1 = Eq(O[0,0])\n",
    "e2 = Eq(O[0,1])\n",
    "e3 = Eq(O[1,0])\n",
    "e4 = Eq(O[1,1])"
   ]
  },
  {
   "cell_type": "code",
   "execution_count": 166,
   "metadata": {
    "collapsed": false
   },
   "outputs": [
    {
     "data": {
      "text/latex": [
       "$$\\left \\{ m_{11} : 0.0, \\quad m_{12} : 0.0, \\quad m_{21} : 0.0, \\quad m_{22} : 0.0\\right \\}$$"
      ],
      "text/plain": [
       "{m₁₁: 0.0, m₁₂: 0.0, m₂₁: 0.0, m₂₂: 0.0}"
      ]
     },
     "execution_count": 166,
     "metadata": {},
     "output_type": "execute_result"
    }
   ],
   "source": [
    "solve([e1,e2,e3,e4])\n"
   ]
  }
 ],
 "metadata": {
  "kernelspec": {
   "display_name": "Python 3",
   "language": "python",
   "name": "python3"
  },
  "language_info": {
   "codemirror_mode": {
    "name": "ipython",
    "version": 3
   },
   "file_extension": ".py",
   "mimetype": "text/x-python",
   "name": "python",
   "nbconvert_exporter": "python",
   "pygments_lexer": "ipython3",
   "version": "3.6.1"
  }
 },
 "nbformat": 4,
 "nbformat_minor": 2
}
