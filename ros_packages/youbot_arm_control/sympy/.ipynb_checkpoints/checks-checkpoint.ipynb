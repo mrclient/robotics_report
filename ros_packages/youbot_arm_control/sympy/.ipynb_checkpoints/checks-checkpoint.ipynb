{
 "cells": [
  {
   "cell_type": "code",
   "execution_count": 3,
   "metadata": {
    "collapsed": false
   },
   "outputs": [],
   "source": [
    "from __future__ import division\n",
    "from IPython.display import display\n",
    "\n",
    "from sympy import Matrix\n",
    "from sympy.interactive import printing\n",
    "\n",
    "printing.init_printing(use_latex='mathjax')\n",
    "\n",
    "import sympy as sym\n",
    "from sympy import *\n",
    "\n",
    "\n",
    "a1, a2, a3, a4, a5, a6 = symbols(\"a_1 a_2 a_3 a_4 a_5 a_6\")\n",
    "d1, d2, d3, d4, d5, d6 = symbols(\"d_1 d_2 d_3 d_4 d_5 d_6\")\n",
    "\n",
    "thi = symbols(\"\\\\theta_0 \\\\theta_1 \\\\theta_2 \\\\theta_3 \\\\theta_4 \\\\theta_5\")\n",
    "ai = [0, a2, a3, a4, 0, 0]\n",
    "di = [d1, d2, 0, 0, 0, d6]\n",
    "alphai = [0, pi/2, 0, 0, pi/2, 0]\n",
    "# thi = [0,0,0+pi/2,0,pi/2,0]\n",
    "# ai = [0, 0.033, 0.155, 0.135, 0, 0]\n",
    "# di = [0.128, 0.019, 0, 0, 0, 0.218]\n",
    "\n",
    "def T(i):\n",
    "    Rz = Matrix([[cos(thi[i]), -sin(thi[i]), 0, 0],[sin(thi[i]), cos(thi[i]), 0, 0],[0,0,1,0],[0,0,0,1]])\n",
    "    Rx = Matrix([[1, 0, 0, 0],[0, cos(alphai[i]), -sin(alphai[i]), 0],[0,sin(alphai[i]), cos(alphai[i]), 0],[0,0,0,1]])\n",
    "    Tz = Matrix([[1,0,0,0],[0,1,0,0],[0,0,1, di[i]],[0,0,0,1]])\n",
    "    Tx = Matrix([[1,0,0,ai[i]],[0,1,0,0],[0,0,1, 0],[0,0,0,1]])\n",
    "    dT = Rz*Tz*Tx*Rx\n",
    "    return dT\n",
    "# A = 1\n",
    "# for j in range(0, 6):\n",
    "#     A *= T(j)\n",
    "# simplify(expand(A))\n",
    "\n",
    "T01 = T(0).subs(thi[0], 0)\n",
    "T12 = T(1)\n",
    "T23 = T(2)\n",
    "T34 = T(3)\n",
    "T45 = T(4)\n",
    "T56 = T(5)\n",
    "\n",
    "\n",
    "def R(i, j):\n",
    "    A = eye(4)\n",
    "    for k in range(i+1, j):\n",
    "        if k == 0:\n",
    "            A = A * T01\n",
    "        else:\n",
    "            A = A * T(k)\n",
    "    return A[:3, :3]\n",
    "\n",
    "# r = symbols(\"r_{11} r_{12} r_{13} r_{21} r_{22} r_{23} r_{31} r_{32} r_{33}\")\n",
    "# p = symbols(\"p_x p_y p_z\")\n",
    "# T06e = Matrix([[r[0], r[1], r[2], p[0]],[r[3], r[4], r[5], p[1]],[r[6], r[7], r[8], p[2]], [0,0,0,1]])\n",
    "# T26 = simplify(expand(T23 * T34 * T45 * T56))\n",
    "\n",
    "# T02 = T01 * T12\n",
    "# T46 = T45 * T56\n",
    "# T06 = T01*T12*T23*T34*T45*T56\n",
    "# T06 = simplify(expand(T06))\n",
    "\n",
    "# T24 = simplify(expand(simplify(expand(T02**-1))*T06e*simplify(expand(T46**-1)))) # work\n",
    "# T26e = simplify(expand(simplify(expand(T02**-1))*T06e))\n",
    "# T26 = simplify(expand(simplify(expand(T02**-1))*T06))\n"
   ]
  },
  {
   "cell_type": "code",
   "execution_count": 5,
   "metadata": {
    "collapsed": false
   },
   "outputs": [],
   "source": [
    "m = symbols('m_0 m_1 m_2 m_3 m_4 m_5')\n",
    "g = symbols('g_0')\n",
    "\n",
    "xc = symbols('x_{c0} x_{c1} x_{c2} x_{c3} x_{c4} x_{c5}')\n",
    "yc = symbols('y_{c0} y_{c1} y_{c2} y_{c3} y_{c4} y_{c5}')\n",
    "zc = symbols('z_{c0} z_{c1} z_{c2} z_{c3} z_{c4} z_{c5}')\n",
    "x = symbols('x_{0} x_{1} x_{2} x_{3} x_{4} x_{5}')\n",
    "y = symbols('y_{0} y_{1} y_{2} y_{3} y_{4} y_{5}')\n",
    "z = symbols('z_{0} z_{1} z_{2} z_{3} z_{4} z_{5}')\n",
    "\n",
    "\n",
    "g0 = Matrix([[0],[0],[-g]])\n",
    "\n",
    "l = Matrix([0])\n",
    "for i in range(1, 6):\n",
    "    r = Matrix([xc[i], yc[i], zc[i]])\n",
    "    l = m[i] * transpose(g0) * r + l \n",
    "    \n",
    "U = -l\n",
    "U\n",
    "\n",
    "#r = symbols('r_0 r_1 r_2 r_3 r_4 r_5')\n",
    "#rc = symbols('r_{0,c0}^{0} r_{0,c1}^{0} r_{0,c2}^{0} r_{0,c3}^{0} r_{0,c4}^{0} r_{0,c5}^{0}')\n",
    "#z = symbols('z_0^0 z_1^0 z_2^0 z_3^0 z_4^0 z_5^0')\n",
    "\n",
    "i = 0\n",
    "rc = Matrix([[xc[0], yc[0], zc[0]], \n",
    "             [xc[1], yc[1], zc[1]], \n",
    "             [xc[2], yc[2], zc[2]], \n",
    "             [xc[3], yc[3], zc[3]],\n",
    "             [xc[4], yc[4], zc[5]]])\n",
    "r = Matrix([[x[0], y[0], z[0]], [x[1], y[1], z[1]], [x[2], y[2], z[2]], [x[3], y[3], z[3]],\n",
    "            [x[4], y[4], z[5]]])\n",
    "\n",
    "z = Matrix([[0,0,1], [0, -1, 0], [0,-1,0], [0, -1, 0], [1,0,0]])\n",
    "\n",
    "O = [0,0,0]\n",
    "\n",
    "qs = symbols('\\dot{q_0} \\dot{q_1} \\dot{q_2} \\dot{q_3} \\dot{q_4} \\dot{q_5}')\n",
    "q = Matrix([qs[1], qs[2], qs[3], qs[4], qs[5]])\n",
    "\n",
    "K = 1/2 * transpose(q) * () * q"
   ]
  },
  {
   "cell_type": "code",
   "execution_count": 7,
   "metadata": {
    "collapsed": false
   },
   "outputs": [],
   "source": [
    "T02 = T01 * T12\n",
    "# r_ci vectors\n",
    "i = 1\n",
    "rc1 = T02 * Matrix([xc[i], yc[i], zc[i], 0])\n",
    "i = 2\n",
    "rc2 = T23 * Matrix([xc[i], yc[i], zc[i], 0])\n",
    "i = 3\n",
    "rc3 = T34 * Matrix([xc[i], yc[i], zc[i], 0])\n",
    "i = 4\n",
    "rc4 = T45 * Matrix([xc[i], yc[i], zc[i], 0])\n",
    "i = 5\n",
    "rc5 = T56 * Matrix([xc[i], yc[i], zc[i], 0])\n",
    "\n",
    "rc1 = rc1[:3]\n",
    "rc2 = rc2[:3]\n",
    "rc3 = rc3[:3]\n",
    "rc4 = rc4[:3]\n",
    "rc5 = rc5[:3]\n",
    "\n",
    "# r vectros\n",
    "i = 0\n",
    "r00 = Matrix([0,0,0])\n",
    "r01 = T02[:3, 3]\n",
    "r02 = simplify((T02*T23)[:3, 3])\n",
    "r03 = simplify((T02*T23*T34)[:3, 3])\n",
    "r04 = simplify((T02*T23*T34*T45)[:3, 3])\n",
    "r05 = simplify((T02*T23*T34*T45*T56)[:3, 3])"
   ]
  },
  {
   "cell_type": "code",
   "execution_count": 9,
   "metadata": {
    "collapsed": false
   },
   "outputs": [
    {
     "data": {
      "text/latex": [
       "$$\\left[\\begin{matrix}I_{4sxx} & I_{4sxy} & I_{4sxz}\\\\I_{4sxy} & I_{4syy} & I_{4syz}\\\\I_{4sxz} & I_{4syz} & I_{4szz}\\end{matrix}\\right]$$"
      ],
      "text/plain": [
       "⎡I_{4sxx}  I_{4sxy}  I_{4sxz}⎤\n",
       "⎢                            ⎥\n",
       "⎢I_{4sxy}  I_{4syy}  I_{4syz}⎥\n",
       "⎢                            ⎥\n",
       "⎣I_{4sxz}  I_{4syz}  I_{4szz}⎦"
      ]
     },
     "execution_count": 9,
     "metadata": {},
     "output_type": "execute_result"
    }
   ],
   "source": [
    "O = [0,0,0]\n",
    "Jv1 = Matrix([z[0,:].cross((Matrix(rc1) - r00)), O,O,O,O])\n",
    "Jv2 = Matrix([z[0,:].cross((Matrix(rc2) - r00)), z[1,:].cross((Matrix(rc2) - r01)),O,O,O])\n",
    "Jv3 = Matrix([z[0,:].cross((Matrix(rc3) - r00)), z[1,:].cross((Matrix(rc3) - r01)),z[2,:].cross((Matrix(rc3) - r02)),O,O])\n",
    "Jv4 = Matrix([z[0,:].cross((Matrix(rc4) - r00)), z[1,:].cross((Matrix(rc4) - r01)),z[2,:].cross((Matrix(rc4) - r02)),\n",
    "              z[3,:].cross((Matrix(rc4) - r03)), O])\n",
    "Jv5 = Matrix([z[0,:].cross((Matrix(rc5) - r00)), z[1,:].cross((Matrix(rc5) - r01)),z[2,:].cross((Matrix(rc5) - r02)),\n",
    "              z[3,:].cross((Matrix(rc5) - r03)), z[4,:].cross((Matrix(rc5) - r04))])\n",
    "\n",
    "Jv = Matrix([Jv1, Jv2, Jv3, Jv4, Jv5])\n",
    "\n",
    "Jw1 = Matrix([z[0,:], O,O,O,O])\n",
    "Jw2 = Matrix([z[0,:], z[1,:],O,O,O])\n",
    "Jw3 = Matrix([z[0,:], z[1,:],z[2,:],O,O])\n",
    "Jw4 = Matrix([z[0,:], z[1,:],z[2,:],z[3,:],O])\n",
    "Jw5 = Matrix([z[0,:], z[1,:],z[2,:],z[3,:],z[4,:]])\n",
    "Jw = Matrix([Jw1, Jw2, Jw3, Jw4, Jw5])\n",
    "\n",
    "Ixx = symbols('I_{0sxx} I_{1sxx} I_{2sxx} I_{3sxx} I_{4sxx} I_{5sxx}')\n",
    "Iyy = symbols('I_{0syy} I_{1syy} I_{2syy} I_{3syy} I_{4syy} I_{5syy}')\n",
    "Izz = symbols('I_{0szz} I_{1szz} I_{2szz} I_{3szz} I_{4szz} I_{5szz}')\n",
    "Ixy = symbols('I_{0sxy} I_{1sxy} I_{2sxy} I_{3sxy} I_{4sxy} I_{5sxy}')\n",
    "Ixz = symbols('I_{0sxz} I_{1sxz} I_{2sxz} I_{3sxz} I_{4sxz} I_{5sxz}')\n",
    "Iyz = symbols('I_{0syz} I_{1syz} I_{2syz} I_{3syz} I_{4syz} I_{5syz}')\n",
    "\n",
    "\n",
    "\n",
    "i = 1\n",
    "I1 = Matrix([[Ixx[i], Ixy[i], Ixz[i]],\n",
    "             [Ixy[i], Iyy[i], Iyz[i]],\n",
    "             [Ixz[i], Iyz[i], Izz[i]]])\n",
    "i = 2\n",
    "I2 = Matrix([[Ixx[i], Ixy[i], Ixz[i]],\n",
    "             [Ixy[i], Iyy[i], Iyz[i]],\n",
    "             [Ixz[i], Iyz[i], Izz[i]]])\n",
    "i = 3\n",
    "I3 = Matrix([[Ixx[i], Ixy[i], Ixz[i]],\n",
    "             [Ixy[i], Iyy[i], Iyz[i]],\n",
    "             [Ixz[i], Iyz[i], Izz[i]]])\n",
    "i = 4\n",
    "I4 = Matrix([[Ixx[i], Ixy[i], Ixz[i]],\n",
    "             [Ixy[i], Iyy[i], Iyz[i]],\n",
    "             [Ixz[i], Iyz[i], Izz[i]]])\n",
    "i = 5\n",
    "I5 = Matrix([[Ixx[i], Ixy[i], Ixz[i]],\n",
    "             [Ixy[i], Iyy[i], Iyz[i]],\n",
    "             [Ixz[i], Iyz[i], Izz[i]]])\n",
    "\n",
    "I = Matrix([I1, I2, I3, I4, I5])\n",
    "i=3\n",
    "I[i*3:i*3+3, :3]"
   ]
  },
  {
   "cell_type": "code",
   "execution_count": 11,
   "metadata": {
    "collapsed": false
   },
   "outputs": [
    {
     "data": {
      "text/latex": [
       "$$\\left[\\begin{matrix}m_{1} \\left(- x_{c1} \\sin{\\left (\\theta_1 \\right )} + z_{c1} \\cos{\\left (\\theta_1 \\right )}\\right)^{2} & m_{1} \\left(- x_{c1} \\sin{\\left (\\theta_1 \\right )} + z_{c1} \\cos{\\left (\\theta_1 \\right )}\\right) \\left(x_{c1} \\cos{\\left (\\theta_1 \\right )} + z_{c1} \\sin{\\left (\\theta_1 \\right )}\\right) & 0\\\\m_{1} \\left(- x_{c1} \\sin{\\left (\\theta_1 \\right )} + z_{c1} \\cos{\\left (\\theta_1 \\right )}\\right) \\left(x_{c1} \\cos{\\left (\\theta_1 \\right )} + z_{c1} \\sin{\\left (\\theta_1 \\right )}\\right) & m_{1} \\left(x_{c1} \\cos{\\left (\\theta_1 \\right )} + z_{c1} \\sin{\\left (\\theta_1 \\right )}\\right)^{2} & 0\\\\0 & 0 & 0\\end{matrix}\\right]$$"
      ],
      "text/plain": [
       "⎡                                                                    2        \n",
       "⎢                     m₁⋅(-x_{c1}⋅sin(\\theta₁) + z_{c1}⋅cos(\\theta₁))         \n",
       "⎢                                                                             \n",
       "⎢                                                                             \n",
       "⎢m₁⋅(-x_{c1}⋅sin(\\theta₁) + z_{c1}⋅cos(\\theta₁))⋅(x_{c1}⋅cos(\\theta₁) + z_{c1}\n",
       "⎢                                                                             \n",
       "⎣                                             0                               \n",
       "\n",
       "                                                                              \n",
       "                m₁⋅(-x_{c1}⋅sin(\\theta₁) + z_{c1}⋅cos(\\theta₁))⋅(x_{c1}⋅cos(\\t\n",
       "                                                                              \n",
       "                                                                              \n",
       "⋅sin(\\theta₁))                        m₁⋅(x_{c1}⋅cos(\\theta₁) + z_{c1}⋅sin(\\th\n",
       "                                                                              \n",
       "                                                             0                \n",
       "\n",
       "                                ⎤\n",
       "heta₁) + z_{c1}⋅sin(\\theta₁))  0⎥\n",
       "                                ⎥\n",
       "      2                         ⎥\n",
       "eta₁))                         0⎥\n",
       "                                ⎥\n",
       "                               0⎦"
      ]
     },
     "execution_count": 11,
     "metadata": {},
     "output_type": "execute_result"
    }
   ],
   "source": [
    "i = 0\n",
    "m[i+1] * transpose(Jv[i*5:i*5+5, :3]) * Jv[i*5:i*5+5, :3] "
   ]
  },
  {
   "cell_type": "markdown",
   "metadata": {
    "collapsed": false
   },
   "source": []
  },
  {
   "cell_type": "code",
   "execution_count": 13,
   "metadata": {
    "collapsed": false
   },
   "outputs": [],
   "source": [
    "# i=4\n",
    "# simplify(expand((Jw[(i*5):(i*5+5), :3]) * simplify(R(0, i+2)) * I[i*3:i*3+3, :3] * transpose(simplify(R(0, i+2))) * transpose(Jw[(i*5):(i*5+5), :3])))"
   ]
  },
  {
   "cell_type": "code",
   "execution_count": 16,
   "metadata": {
    "collapsed": false
   },
   "outputs": [],
   "source": [
    "i = 0\n",
    "M1 = m[i+1] * (Jv[i*5:i*5+5, :3]) * transpose(Jv[i*5:i*5+5, :3])\n",
    "for i in range(1, 5):\n",
    "    M1 = M1 + m[i+1] * (Jv[i*5:i*5+5, :3]) * transpose(Jv[i*5:i*5+5, :3])\n",
    "\n"
   ]
  },
  {
   "cell_type": "code",
   "execution_count": 17,
   "metadata": {
    "collapsed": false
   },
   "outputs": [],
   "source": [
    "M1 = simplify(expand(M1))"
   ]
  },
  {
   "cell_type": "code",
   "execution_count": 15,
   "metadata": {
    "collapsed": false
   },
   "outputs": [],
   "source": [
    "i = 0\n",
    "M2 = (Jw[(i*5):(i*5+5), :3]) * simplify(R(0, i+2)) * I[i*3:i*3+3, :3] * transpose(simplify(R(0, i+2))) * transpose(Jw[(i*5):(i*5+5), :3])\n",
    "for i in range(1, 5):\n",
    "    M2 = M2 + (Jw[(i*5):(i*5+5), :3]) * simplify(R(0, i+2)) * I[i*3:i*3+3, :3] * transpose(simplify(R(0, i+2))) * transpose(Jw[(i*5):(i*5+5), :3])  "
   ]
  },
  {
   "cell_type": "code",
   "execution_count": 18,
   "metadata": {
    "collapsed": false
   },
   "outputs": [],
   "source": [
    "M2 = simplify(expand(M2))"
   ]
  },
  {
   "cell_type": "code",
   "execution_count": 22,
   "metadata": {
    "collapsed": false
   },
   "outputs": [],
   "source": [
    "M = M1+M2\n",
    "K = 1/2\n",
    "K = (K * transpose(q) * M * q)\n"
   ]
  },
  {
   "cell_type": "code",
   "execution_count": null,
   "metadata": {
    "collapsed": false
   },
   "outputs": [],
   "source": [
    "K = simplify(expand(K))"
   ]
  },
  {
   "cell_type": "code",
   "execution_count": null,
   "metadata": {
    "collapsed": true
   },
   "outputs": [],
   "source": []
  }
 ],
 "metadata": {
  "kernelspec": {
   "display_name": "Python 2",
   "language": "python",
   "name": "python2"
  },
  "language_info": {
   "codemirror_mode": {
    "name": "ipython",
    "version": 2
   },
   "file_extension": ".py",
   "mimetype": "text/x-python",
   "name": "python",
   "nbconvert_exporter": "python",
   "pygments_lexer": "ipython2",
   "version": "2.7.12"
  }
 },
 "nbformat": 4,
 "nbformat_minor": 2
}
